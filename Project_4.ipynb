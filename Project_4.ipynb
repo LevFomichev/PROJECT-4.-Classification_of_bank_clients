{
 "cells": [
  {
   "cell_type": "markdown",
   "id": "b4ed1e5c",
   "metadata": {},
   "source": [
    "![image](https://leasing.express/wp-content/uploads/2021/12/depozit-s-popolneniem.png)"
   ]
  },
  {
   "cell_type": "markdown",
   "id": "c353de9a",
   "metadata": {},
   "source": [
    "# Проект-3: Классификация клиентов банка "
   ]
  },
  {
   "cell_type": "markdown",
   "id": "55dedb39",
   "metadata": {},
   "source": [
    "Для успешной работы над данным проектом нам потребуются следующие библиотеки:"
   ]
  },
  {
   "cell_type": "code",
   "execution_count": 2,
   "id": "4a6e54dc",
   "metadata": {},
   "outputs": [],
   "source": [
    "# Чтение данных\n",
    "import pandas as pd\n",
    "import numpy as np\n",
    "\n",
    "# Визуализация зависимостей и распределений в данных\n",
    "import matplotlib.pyplot as plt\n",
    "import seaborn as sns\n",
    "\n",
    "# Преобразование данных\n",
    "from sklearn.preprocessing  import LabelEncoder\n",
    "from sklearn.preprocessing  import MinMaxScaler\n",
    "\n",
    "# Отбор признаков\n",
    "from sklearn.feature_selection import SelectKBest, f_classif\n",
    "\n",
    "# Разбиение данных\n",
    "from sklearn.model_selection import train_test_split \n",
    "\n",
    "# Модели ML\n",
    "from sklearn import linear_model \n",
    "from sklearn import tree \n",
    "from sklearn import ensemble \n",
    "\n",
    "# Метрики\n",
    "from sklearn import metrics \n",
    "\n",
    "# Игнорирование возможных предупреждений\n",
    "import warnings\n",
    "warnings.filterwarnings('ignore')\n",
    "\n",
    "# Делаем визуальную настройку графиков\n",
    "sns.set_theme(\"notebook\") \n",
    "sns.set_palette(\"Set2\") "
   ]
  },
  {
   "cell_type": "markdown",
   "id": "71559b60",
   "metadata": {},
   "source": [
    "## Знакомство с данными, обработка пропусков и выбросов"
   ]
  },
  {
   "cell_type": "markdown",
   "id": "8fbcac5f",
   "metadata": {},
   "source": [
    "✍ Начнём с того, что оценим, насколько предложенные данные готовы к дальнейшему анализу:"
   ]
  },
  {
   "cell_type": "code",
   "execution_count": 3,
   "id": "20730cd7",
   "metadata": {},
   "outputs": [
    {
     "name": "stdout",
     "output_type": "stream",
     "text": [
      "(11162, 17)\n"
     ]
    },
    {
     "data": {
      "text/html": [
       "<div>\n",
       "<style scoped>\n",
       "    .dataframe tbody tr th:only-of-type {\n",
       "        vertical-align: middle;\n",
       "    }\n",
       "\n",
       "    .dataframe tbody tr th {\n",
       "        vertical-align: top;\n",
       "    }\n",
       "\n",
       "    .dataframe thead th {\n",
       "        text-align: right;\n",
       "    }\n",
       "</style>\n",
       "<table border=\"1\" class=\"dataframe\">\n",
       "  <thead>\n",
       "    <tr style=\"text-align: right;\">\n",
       "      <th></th>\n",
       "      <th>age</th>\n",
       "      <th>job</th>\n",
       "      <th>marital</th>\n",
       "      <th>education</th>\n",
       "      <th>default</th>\n",
       "      <th>balance</th>\n",
       "      <th>housing</th>\n",
       "      <th>loan</th>\n",
       "      <th>contact</th>\n",
       "      <th>day</th>\n",
       "      <th>month</th>\n",
       "      <th>duration</th>\n",
       "      <th>campaign</th>\n",
       "      <th>pdays</th>\n",
       "      <th>previous</th>\n",
       "      <th>poutcome</th>\n",
       "      <th>deposit</th>\n",
       "    </tr>\n",
       "  </thead>\n",
       "  <tbody>\n",
       "    <tr>\n",
       "      <th>0</th>\n",
       "      <td>59</td>\n",
       "      <td>admin.</td>\n",
       "      <td>married</td>\n",
       "      <td>secondary</td>\n",
       "      <td>no</td>\n",
       "      <td>2 343,00 $</td>\n",
       "      <td>yes</td>\n",
       "      <td>no</td>\n",
       "      <td>unknown</td>\n",
       "      <td>5</td>\n",
       "      <td>may</td>\n",
       "      <td>1042</td>\n",
       "      <td>1</td>\n",
       "      <td>-1</td>\n",
       "      <td>0</td>\n",
       "      <td>unknown</td>\n",
       "      <td>yes</td>\n",
       "    </tr>\n",
       "    <tr>\n",
       "      <th>1</th>\n",
       "      <td>56</td>\n",
       "      <td>admin.</td>\n",
       "      <td>married</td>\n",
       "      <td>secondary</td>\n",
       "      <td>no</td>\n",
       "      <td>45,00 $</td>\n",
       "      <td>no</td>\n",
       "      <td>no</td>\n",
       "      <td>unknown</td>\n",
       "      <td>5</td>\n",
       "      <td>may</td>\n",
       "      <td>1467</td>\n",
       "      <td>1</td>\n",
       "      <td>-1</td>\n",
       "      <td>0</td>\n",
       "      <td>unknown</td>\n",
       "      <td>yes</td>\n",
       "    </tr>\n",
       "    <tr>\n",
       "      <th>2</th>\n",
       "      <td>41</td>\n",
       "      <td>technician</td>\n",
       "      <td>married</td>\n",
       "      <td>secondary</td>\n",
       "      <td>no</td>\n",
       "      <td>1 270,00 $</td>\n",
       "      <td>yes</td>\n",
       "      <td>no</td>\n",
       "      <td>unknown</td>\n",
       "      <td>5</td>\n",
       "      <td>may</td>\n",
       "      <td>1389</td>\n",
       "      <td>1</td>\n",
       "      <td>-1</td>\n",
       "      <td>0</td>\n",
       "      <td>unknown</td>\n",
       "      <td>yes</td>\n",
       "    </tr>\n",
       "    <tr>\n",
       "      <th>3</th>\n",
       "      <td>55</td>\n",
       "      <td>services</td>\n",
       "      <td>married</td>\n",
       "      <td>secondary</td>\n",
       "      <td>no</td>\n",
       "      <td>2 476,00 $</td>\n",
       "      <td>yes</td>\n",
       "      <td>no</td>\n",
       "      <td>unknown</td>\n",
       "      <td>5</td>\n",
       "      <td>may</td>\n",
       "      <td>579</td>\n",
       "      <td>1</td>\n",
       "      <td>-1</td>\n",
       "      <td>0</td>\n",
       "      <td>unknown</td>\n",
       "      <td>yes</td>\n",
       "    </tr>\n",
       "    <tr>\n",
       "      <th>4</th>\n",
       "      <td>54</td>\n",
       "      <td>admin.</td>\n",
       "      <td>married</td>\n",
       "      <td>tertiary</td>\n",
       "      <td>no</td>\n",
       "      <td>184,00 $</td>\n",
       "      <td>no</td>\n",
       "      <td>no</td>\n",
       "      <td>unknown</td>\n",
       "      <td>5</td>\n",
       "      <td>may</td>\n",
       "      <td>673</td>\n",
       "      <td>2</td>\n",
       "      <td>-1</td>\n",
       "      <td>0</td>\n",
       "      <td>unknown</td>\n",
       "      <td>yes</td>\n",
       "    </tr>\n",
       "  </tbody>\n",
       "</table>\n",
       "</div>"
      ],
      "text/plain": [
       "   age         job  marital  education default       balance housing loan  \\\n",
       "0   59      admin.  married  secondary      no   2 343,00 $      yes   no   \n",
       "1   56      admin.  married  secondary      no      45,00 $       no   no   \n",
       "2   41  technician  married  secondary      no   1 270,00 $      yes   no   \n",
       "3   55    services  married  secondary      no   2 476,00 $      yes   no   \n",
       "4   54      admin.  married   tertiary      no     184,00 $       no   no   \n",
       "\n",
       "   contact  day month  duration  campaign  pdays  previous poutcome deposit  \n",
       "0  unknown    5   may      1042         1     -1         0  unknown     yes  \n",
       "1  unknown    5   may      1467         1     -1         0  unknown     yes  \n",
       "2  unknown    5   may      1389         1     -1         0  unknown     yes  \n",
       "3  unknown    5   may       579         1     -1         0  unknown     yes  \n",
       "4  unknown    5   may       673         2     -1         0  unknown     yes  "
      ]
     },
     "execution_count": 3,
     "metadata": {},
     "output_type": "execute_result"
    }
   ],
   "source": [
    "# Читаем данные и выводим первые пять строк с размерностью таблицы\n",
    "df = pd.read_csv('data/bank_fin.csv', sep = ';')\n",
    "\n",
    "print(df.shape)\n",
    "df.head()"
   ]
  },
  {
   "cell_type": "code",
   "execution_count": 4,
   "id": "0c841bf8",
   "metadata": {},
   "outputs": [
    {
     "name": "stdout",
     "output_type": "stream",
     "text": [
      "<class 'pandas.core.frame.DataFrame'>\n",
      "RangeIndex: 11162 entries, 0 to 11161\n",
      "Data columns (total 17 columns):\n",
      " #   Column     Non-Null Count  Dtype \n",
      "---  ------     --------------  ----- \n",
      " 0   age        11162 non-null  int64 \n",
      " 1   job        11162 non-null  object\n",
      " 2   marital    11162 non-null  object\n",
      " 3   education  11162 non-null  object\n",
      " 4   default    11162 non-null  object\n",
      " 5   balance    11137 non-null  object\n",
      " 6   housing    11162 non-null  object\n",
      " 7   loan       11162 non-null  object\n",
      " 8   contact    11162 non-null  object\n",
      " 9   day        11162 non-null  int64 \n",
      " 10  month      11162 non-null  object\n",
      " 11  duration   11162 non-null  int64 \n",
      " 12  campaign   11162 non-null  int64 \n",
      " 13  pdays      11162 non-null  int64 \n",
      " 14  previous   11162 non-null  int64 \n",
      " 15  poutcome   11162 non-null  object\n",
      " 16  deposit    11162 non-null  object\n",
      "dtypes: int64(6), object(11)\n",
      "memory usage: 1.4+ MB\n"
     ]
    }
   ],
   "source": [
    "# Выводим информацию об типах данных в признаках\n",
    "df.info()"
   ]
  },
  {
   "cell_type": "markdown",
   "id": "17fdf812",
   "metadata": {},
   "source": [
    "В первую очередь давайте выясним, есть ли в данных `пропущенные значения` (пустые, незаполненные ячейки)?"
   ]
  },
  {
   "cell_type": "code",
   "execution_count": 5,
   "id": "ba11dc67",
   "metadata": {},
   "outputs": [
    {
     "data": {
      "text/plain": [
       "balance      25\n",
       "age           0\n",
       "job           0\n",
       "education     0\n",
       "marital       0\n",
       "default       0\n",
       "housing       0\n",
       "loan          0\n",
       "contact       0\n",
       "day           0\n",
       "month         0\n",
       "duration      0\n",
       "campaign      0\n",
       "pdays         0\n",
       "previous      0\n",
       "poutcome      0\n",
       "deposit       0\n",
       "dtype: int64"
      ]
     },
     "execution_count": 5,
     "metadata": {},
     "output_type": "execute_result"
    }
   ],
   "source": [
    "# Исследуем данные на предмет пропусков. Где есть пропущенные значения? Сколько их?\n",
    "df.isnull().sum().sort_values(ascending=False)"
   ]
  },
  {
   "cell_type": "markdown",
   "id": "06d6ab53",
   "metadata": {},
   "source": [
    "Мы выяснили количество пропущенных значений. Однако в данных обычно всё не так просто, и `пропущенные (неизвестные) значения` могут присутствовать `неявным образом`. Это значит, что они могут быть закодированы каким-то словом или набором символов. Часто это не является проблемой, но это необходимо выявить. В наших данных именно такая ситуация (например, в признаке со сферой занятости).\n",
    "\n",
    "Узнаем, каким именно словом закодированы `пропущенные (неизвестные) значения`:"
   ]
  },
  {
   "cell_type": "code",
   "execution_count": 6,
   "id": "98ea29d4",
   "metadata": {},
   "outputs": [
    {
     "data": {
      "text/plain": [
       "job\n",
       "management       2566\n",
       "blue-collar      1944\n",
       "technician       1823\n",
       "admin.           1334\n",
       "services          923\n",
       "retired           778\n",
       "self-employed     405\n",
       "student           360\n",
       "unemployed        357\n",
       "entrepreneur      328\n",
       "housemaid         274\n",
       "unknown            70\n",
       "Name: count, dtype: int64"
      ]
     },
     "execution_count": 6,
     "metadata": {},
     "output_type": "execute_result"
    }
   ],
   "source": [
    "# Проверяем признак на наличие 'неочевидных' пропусков в них\n",
    "# Возможно, они обозначены каким-то специальным словом?\n",
    "df['job'].value_counts()"
   ]
  },
  {
   "cell_type": "markdown",
   "id": "4f2cee61",
   "metadata": {},
   "source": [
    "Мы нашли `пропущенные значения`, и хотелось бы теперь их `обработать`. Однако мы не можем этого сделать, так как не все данные `представлены в корректном виде`.\n",
    "\n",
    "Обратите внимание на признак `'balance'`: в данных содержится лишняя запятая и знак доллара. По этой причине этот признак не считывается как число.\n",
    "\n",
    "Обработаем значения этого признака так, чтобы он был преобразован в тип `float`:"
   ]
  },
  {
   "cell_type": "code",
   "execution_count": 7,
   "id": "3a01be5e",
   "metadata": {},
   "outputs": [],
   "source": [
    "# Преобразуем признак 'balance' таким образом, чтобы он корректно считывался, как вещественное число (float)\n",
    "df['balance'] = df['balance'].apply(lambda x: str(x).replace(' ', '').replace(',', '.').replace('$', '')).astype(float)"
   ]
  },
  {
   "cell_type": "markdown",
   "id": "ae97fc4e",
   "metadata": {},
   "source": [
    "Итак, значения в признаке `'balance'` приобрели `нормальный вид`, и теперь мы можем `обработать пропуски`, которые в нём присутствуют. Конечно, пропуски можно было бы просто удалить, но мы поступим по-другому: `заменим пропуски на медианное значение по этому признаку`:"
   ]
  },
  {
   "cell_type": "code",
   "execution_count": 8,
   "id": "6a684a63",
   "metadata": {},
   "outputs": [],
   "source": [
    "# Обработаем пропуски в признаки 'balance', заменив их на медианные значения по данному признаку\n",
    "df['balance'] = df['balance'].fillna(df['balance'].median())"
   ]
  },
  {
   "cell_type": "markdown",
   "id": "56ddd7a3",
   "metadata": {},
   "source": [
    "Ранее мы выяснили, что в признаке `'job'` есть пропущенные значения, которые `не отображаются как пропуски в явном виде`. Однако нам всё равно важно их `обработать`. Мы знаем, что для категориальных признаков пропущенные значения лучше `заменить модой по данному признаку`.\n",
    "\n",
    "Заменин все пропущенные значения в признаке `'job'` на модальные. То же самое сделаем с признаком, отвечающим за уровень образования:"
   ]
  },
  {
   "cell_type": "code",
   "execution_count": 9,
   "id": "0fa070a6",
   "metadata": {},
   "outputs": [],
   "source": [
    "# Обработаем пропуски в категориальных признаках: 'job' и 'education', заменив их на модальные значения признаков\n",
    "df['education'] = df['education'].apply(lambda x: 'secondary' if x == 'unknown' else x)\n",
    "df['job'] = df['job'].apply(lambda x: 'management' if x == 'unknown' else x)"
   ]
  },
  {
   "cell_type": "markdown",
   "id": "b3e27cff",
   "metadata": {},
   "source": [
    "Изучим признак, отображающий баланс клиентов (`'balance'`), на предмет выбросов.\n",
    "\n",
    "В `математической статистике` есть несколько подходов, позволяющих `определить наличие выбросов`. Мы будем считать, что выбросы `находятся за пределами отрезка`, нижняя граница которого определяется как нижний квартиль, из которого вычли полтора межквартильных размаха ($Q1 - 1.5 * IQR$), а верхняя граница — как верхний квартиль, к которому прибавили полтора межквартильных размаха. ($Q3 + 1.5 * IQR$).\n",
    "\n",
    "Найдём эти границы, и отфильтруем значения так, чтобы выбросов в данных не осталось:"
   ]
  },
  {
   "cell_type": "code",
   "execution_count": 10,
   "id": "3802cdd9",
   "metadata": {},
   "outputs": [
    {
     "name": "stdout",
     "output_type": "stream",
     "text": [
      "Число выбросов по методу Тьюки: 1057\n",
      "Результирующее число записей: 10105\n"
     ]
    }
   ],
   "source": [
    "# Удалим все выбросы для признака 'balance' выходящие за рамки метода Тьюки\n",
    "def outliers_iqr(data, feature):\n",
    "    x = data[feature]\n",
    "    quartile_1, quartile_3 = x.quantile(0.25), x.quantile(0.75),\n",
    "    iqr = quartile_3 - quartile_1\n",
    "    lower_bound = quartile_1 - (iqr * 1.5)\n",
    "    upper_bound = quartile_3 + (iqr * 1.5)\n",
    "    outliers = data[(x < lower_bound) | (x > upper_bound)]\n",
    "    cleaned = data[(x >= lower_bound) & (x <= upper_bound)]\n",
    "    return outliers, cleaned\n",
    "\n",
    "outliers, cleaned = outliers_iqr(df, 'balance')\n",
    "\n",
    "print(f'Число выбросов по методу Тьюки: {outliers.shape[0]}')\n",
    "\n",
    "print(f'Результирующее число записей: {cleaned.shape[0]}')\n",
    "\n",
    "df = cleaned"
   ]
  },
  {
   "cell_type": "markdown",
   "id": "b3681b24",
   "metadata": {},
   "source": [
    "⭐ Мы отлично справились с этой частью, а значит, можно переходить к `разведывательному анализу наших данных` →"
   ]
  },
  {
   "cell_type": "markdown",
   "id": "5d22b8cd",
   "metadata": {},
   "source": [
    "## Разведывательный анализ данных"
   ]
  },
  {
   "cell_type": "markdown",
   "id": "b4b352e5",
   "metadata": {},
   "source": [
    "✍ В данной части проекта нам необходимо будет:\n",
    "\n",
    "* Исследовать данные;\n",
    "\n",
    "* Попробовать найти закономерности, позволяющие сформулировать предварительные гипотезы относительно того, какие факторы являются решающими для оформления депозита;\n",
    "\n",
    "* Дополнить наш анализ визуализациями, иллюстрирующими наше исследование."
   ]
  },
  {
   "cell_type": "markdown",
   "id": "addeadc1",
   "metadata": {},
   "source": [
    "### Распределение целевой переменной"
   ]
  },
  {
   "cell_type": "markdown",
   "id": "ca41665b",
   "metadata": {},
   "source": [
    "Давайте изучим `распределение целевой переменной`: есть ли несбалансированность классов?\n",
    "\n",
    "Чтобы это определить, `вычислим частоты` для открывших депозит и для тех, кто его не открыл. Сопроводим числа диаграммой, отражающей полученные результаты:"
   ]
  },
  {
   "cell_type": "code",
   "execution_count": 11,
   "id": "6d0cd3a8",
   "metadata": {},
   "outputs": [
    {
     "data": {
      "image/png": "[encoded data removed]",
      "text/plain": [
       "<Figure size 800x500 with 1 Axes>"
      ]
     },
     "metadata": {},
     "output_type": "display_data"
    }
   ],
   "source": [
    "# Изучим соотношение классов в ваших данных на предмет несбалансированности, проиллюстрируем результат\n",
    "fig = plt.figure(figsize=(8, 5))\n",
    "\n",
    "countplot = sns.countplot(\n",
    "    data=df,\n",
    "    x='deposit',\n",
    "    hue='deposit',\n",
    "    palette=['green', 'red']\n",
    ")\n",
    "countplot.set_title('Распределение классов в целевой переменной')\n",
    "countplot.set_xlabel('Открыт ли депозит?');"
   ]
  },
  {
   "cell_type": "code",
   "execution_count": 12,
   "id": "6b41d4f2",
   "metadata": {},
   "outputs": [
    {
     "data": {
      "text/plain": [
       "deposit\n",
       "no     5424\n",
       "yes    4681\n",
       "Name: count, dtype: int64"
      ]
     },
     "execution_count": 12,
     "metadata": {},
     "output_type": "execute_result"
    }
   ],
   "source": [
    "# Выведем число наблюдений для каждой из категорий\n",
    "df['deposit'].value_counts()"
   ]
  },
  {
   "cell_type": "code",
   "execution_count": 13,
   "id": "cf593026",
   "metadata": {},
   "outputs": [
    {
     "data": {
      "text/plain": [
       "deposit\n",
       "no     0.536764\n",
       "yes    0.463236\n",
       "Name: proportion, dtype: float64"
      ]
     },
     "execution_count": 13,
     "metadata": {},
     "output_type": "execute_result"
    }
   ],
   "source": [
    "# Выведем соотношение наблюдений для каждой из категорий\n",
    "df['deposit'].value_counts(normalize=True)"
   ]
  },
  {
   "cell_type": "markdown",
   "id": "512825e6",
   "metadata": {},
   "source": [
    "**Выводы по графику**: Как мы можем видеть, количество наблюдений для категории `'no'` больше, чем для клиентов открывших депозит. Это явно даёт нам знать об необходимости стратифицировать выборки по целевому признаку для более точного прогноза будущей модели. "
   ]
  },
  {
   "cell_type": "markdown",
   "id": "62695763",
   "metadata": {},
   "source": [
    "### Описательные статистики для количественных переменных"
   ]
  },
  {
   "cell_type": "markdown",
   "id": "32880999",
   "metadata": {},
   "source": [
    "Начнём с `описательных статистик` для `количественных переменных`.\n",
    "\n",
    "* Рассчитаем их и продумаем подробную интерпретацию.\n",
    "\n",
    "* Попробуем описать данные, которые у нас есть и увидеть первые зависимости.\n",
    "\n",
    "* Рассмотрим минимальные и максимальные значения.\n",
    "\n",
    "* Посмотрим на меры разброса и оценим, насколько данные вариативны.\n",
    "\n",
    "* Сравнив меры центральной тенденции, сделайем выводы о том, есть ли аномальные значения с меньшей или большей стороны.\n",
    "\n",
    "* Дополним выводы визуализациями."
   ]
  },
  {
   "cell_type": "markdown",
   "id": "103bfb69",
   "metadata": {},
   "source": [
    "#### Распределение возраста клиентов банка"
   ]
  },
  {
   "cell_type": "code",
   "execution_count": 14,
   "id": "24e1898f",
   "metadata": {},
   "outputs": [
    {
     "data": {
      "image/png": "[encoded data removed]",
      "text/plain": [
       "<Figure size 1500x1000 with 4 Axes>"
      ]
     },
     "metadata": {},
     "output_type": "display_data"
    }
   ],
   "source": [
    "# Разделяем наши данные на клиентов с открытым депозитом и без него\n",
    "opened_deposit = df[df['deposit'] == 'yes']\n",
    "unopened_deposit = df[df['deposit'] == 'no']\n",
    "\n",
    "# Отбираем возраст в каждой выбороке\n",
    "age_distribution_with_opened_deposit = opened_deposit['age'].to_frame()\n",
    "age_distribution_with_unopened_deposit = unopened_deposit['age'].to_frame()\n",
    "\n",
    "fig, axes = plt.subplots(2, 2, figsize=(15, 10))\n",
    "\n",
    "# Строим гистограмму распределения возраста клиентов с открытым депозитом\n",
    "sns.histplot(data=age_distribution_with_opened_deposit['age'], kde=True, legend=False, ax=axes[0, 0])\n",
    "axes[0, 0].set(xlabel = '', ylabel='Частота')\n",
    "axes[0, 0].set_title('Возраст клиентов с депозитом')\n",
    "axes[0, 0].axvline(age_distribution_with_opened_deposit['age'].mean(), color='red', linestyle='--', linewidth=2)\n",
    "\n",
    "# Строим гистограмму распределения возраста клиентов без депозита\n",
    "sns.histplot(data=age_distribution_with_unopened_deposit['age'], kde=True, legend=False, color='red', ax=axes[0, 1])\n",
    "axes[0, 1].set(xlabel = '', ylabel='Частота')\n",
    "axes[0, 1].set_title('Возраст клиентов без депозита')\n",
    "axes[0, 1].axvline(age_distribution_with_unopened_deposit['age'].mean(), color='blue', linestyle='--', linewidth=2)\n",
    "\n",
    "# Строим коробчатую диаграмму распределения возраста клиентов с открытым депозитом\n",
    "sns.boxplot(data=age_distribution_with_opened_deposit['age'], ax=axes[1, 0], orient='h', medianprops={'color': 'red', 'linestyle': '--', 'linewidth': '2'})\n",
    "axes[1, 0].set(xlabel='Возраст')\n",
    "\n",
    "# Строим коробчатую диаграмму распределения возраста клиентов без депозита\n",
    "sns.boxplot(data=age_distribution_with_unopened_deposit['age'], color='red', ax=axes[1, 1], orient='h', medianprops={'color': 'blue', 'linestyle': '--', 'linewidth': '2'})\n",
    "axes[1, 1].set(xlabel='Возраст');"
   ]
  },
  {
   "cell_type": "code",
   "execution_count": 15,
   "id": "5c499de8",
   "metadata": {},
   "outputs": [
    {
     "data": {
      "text/plain": [
       "count    4681.000000\n",
       "mean       41.203162\n",
       "std        13.291117\n",
       "min        18.000000\n",
       "25%        31.000000\n",
       "50%        38.000000\n",
       "75%        49.000000\n",
       "max        95.000000\n",
       "Name: age, dtype: float64"
      ]
     },
     "execution_count": 15,
     "metadata": {},
     "output_type": "execute_result"
    }
   ],
   "source": [
    "# Рассчитаем описательную статистику возраста для клиентов с открытым депозитом\n",
    "age_distribution_with_opened_deposit['age'].describe()"
   ]
  },
  {
   "cell_type": "code",
   "execution_count": 16,
   "id": "ad94f330",
   "metadata": {},
   "outputs": [
    {
     "data": {
      "text/plain": [
       "count    5424.000000\n",
       "mean       40.629978\n",
       "std        10.196686\n",
       "min        18.000000\n",
       "25%        33.000000\n",
       "50%        39.000000\n",
       "75%        48.000000\n",
       "max        89.000000\n",
       "Name: age, dtype: float64"
      ]
     },
     "execution_count": 16,
     "metadata": {},
     "output_type": "execute_result"
    }
   ],
   "source": [
    "# Рассчитаем описательную статистику возраста для клиентов клиентов без депозита\n",
    "age_distribution_with_unopened_deposit['age'].describe()"
   ]
  },
  {
   "cell_type": "markdown",
   "id": "b7d90479",
   "metadata": {},
   "source": [
    "**Выводы по графику**: Распределение возраста для клиентов двух категорий примерно одинаково, за исключением следующих факторов:\n",
    "\n",
    "* Возраст клиентов с открытым депозитом находится в интервале `от 18 до 75 лет`, в отличие от клиентов не открывших депозит — `от 18 до 70 лет`;\n",
    "\n",
    "* Мода значений обеих категорий равняется 32 годам для категории `deposit — 'yes'` и 31 году для `deposit — 'no'`;\n",
    "\n",
    "* В обеих категориях признака наблюдаются выбросы (одиночные наблюдения) возраста после 76 лет для категории `deposit — 'yes'` и 70 лет для `deposit — 'no'`."
   ]
  },
  {
   "cell_type": "markdown",
   "id": "ddc6ca45",
   "metadata": {},
   "source": [
    "#### Распределение продолжительности разговора с клиентами банка"
   ]
  },
  {
   "cell_type": "code",
   "execution_count": 17,
   "id": "27ca63e1",
   "metadata": {},
   "outputs": [
    {
     "data": {
      "image/png": "[encoded data removed]",
      "text/plain": [
       "<Figure size 1500x1000 with 2 Axes>"
      ]
     },
     "metadata": {},
     "output_type": "display_data"
    }
   ],
   "source": [
    "# Отбираем продолжительность разговора с клиентами банка в каждой выбороке\n",
    "duration_distribution_with_opened_deposit = opened_deposit['duration'].to_frame()\n",
    "duration_distribution_with_unopened_deposit = unopened_deposit['duration'].to_frame()\n",
    "\n",
    "fig, axes = plt.subplots(2, 1, figsize=(15, 10))\n",
    "\n",
    "# Строим коробчатую диаграмму распределения продолжительности разговора с клиентами с открытым депозитом\n",
    "boxplot = sns.boxplot(data=duration_distribution_with_opened_deposit['duration'], orient='h', medianprops={'color': 'red', 'linestyle': '--', 'linewidth': '2'}, ax=axes[0])\n",
    "axes[0].set(xlabel = '')\n",
    "axes[0].set_title('Продолжительность разговора с клиентом банка с депозитом')\n",
    "\n",
    "# Строим коробчатую диаграмму распределения продолжительности разговора с клиентами без депозита\n",
    "boxplot = sns.boxplot(data=duration_distribution_with_unopened_deposit['duration'], orient='h', color='red', medianprops={'color': 'blue', 'linestyle': '--', 'linewidth': '2'}, ax=axes[1])\n",
    "axes[1].set(xlabel = 'Секунды')\n",
    "axes[1].set_title('Продолжительность разговора с клиентом банка без депозита');"
   ]
  },
  {
   "cell_type": "code",
   "execution_count": 18,
   "id": "ebbb6d02",
   "metadata": {},
   "outputs": [
    {
     "data": {
      "text/plain": [
       "count    4681.000000\n",
       "mean      539.568896\n",
       "std       394.408498\n",
       "min         8.000000\n",
       "25%       245.000000\n",
       "50%       429.000000\n",
       "75%       727.000000\n",
       "max      3881.000000\n",
       "Name: duration, dtype: float64"
      ]
     },
     "execution_count": 18,
     "metadata": {},
     "output_type": "execute_result"
    }
   ],
   "source": [
    "# Рассчитаем описательную статистику продолжительности разговора для клиентов с открытым депозитом\n",
    "duration_distribution_with_opened_deposit['duration'].describe()"
   ]
  },
  {
   "cell_type": "code",
   "execution_count": 19,
   "id": "78cf6fa5",
   "metadata": {},
   "outputs": [
    {
     "data": {
      "text/plain": [
       "count    5424.000000\n",
       "mean      221.316740\n",
       "std       206.688801\n",
       "min         2.000000\n",
       "25%        93.000000\n",
       "50%       163.000000\n",
       "75%       278.000000\n",
       "max      3284.000000\n",
       "Name: duration, dtype: float64"
      ]
     },
     "execution_count": 19,
     "metadata": {},
     "output_type": "execute_result"
    }
   ],
   "source": [
    "# Рассчитаем описательную статистику продолжительности разговора для клиентов без депозита\n",
    "duration_distribution_with_unopened_deposit['duration'].describe()"
   ]
  },
  {
   "cell_type": "markdown",
   "id": "b111bdd8",
   "metadata": {},
   "source": [
    "**Выводы по графику**: Первое, что бросается в глаза от распределений признака `duration` это интервал наблюдений для категории `deposit — 'no'` — он в несколько раз меньше, чем для клиентов, согласившихся открыть депозит в банке.\n",
    "\n",
    "Можно сделать вывод о том, что клиенты соглашаются открыть депозит в банке при уделение гораздо большего времени для поддержания его лояльности по отношению к банку и его продуктам. В свою очередь, клиенты категории `deposit — 'no'` имеют обделение этим 'вниманием'.\n",
    "\n",
    "Стоит взять во внимание этот признак, возможно, `увеличение времени диалога и/или введение стандартного времени поддержания диалога с клиентом для призентации банковских продуктов` поможет увеличить долю клиентов открывших депозит в банке."
   ]
  },
  {
   "cell_type": "markdown",
   "id": "11b618df",
   "metadata": {},
   "source": [
    "### Описательные статистики для категориальных переменных"
   ]
  },
  {
   "cell_type": "markdown",
   "id": "8901edb6",
   "metadata": {},
   "source": [
    "Теперь давайте рассмотрим `описательные статистики` для `категориальных переменных`.\n",
    "\n",
    "Попробуем `извлечь максимум информации` из тех показателей, которые можем получить. Сколько всего сфер занятости представлено среди клиентов банка? В каждый ли месяц проходила маркетинговая кампания? Какое семейное положение встречается чаще всего? А образование? Постараемся `дать достаточно подробную интерпретацию`, а для лучшей наглядности добавим визуализации по каждой категориальной переменной."
   ]
  },
  {
   "cell_type": "markdown",
   "id": "cb5ea888",
   "metadata": {},
   "source": [
    "#### Распределение частоты контакта с клиентами в течении месяцев"
   ]
  },
  {
   "cell_type": "code",
   "execution_count": 20,
   "id": "bf45afc9",
   "metadata": {},
   "outputs": [
    {
     "data": {
      "image/png": "[encoded data removed]",
      "text/plain": [
       "<Figure size 1200x700 with 1 Axes>"
      ]
     },
     "metadata": {},
     "output_type": "display_data"
    }
   ],
   "source": [
    "# Визуализируем частоту контакта с клиентами в течении месяца\n",
    "fig = plt.figure(figsize=(12, 7))\n",
    "\n",
    "countplot = sns.countplot(\n",
    "    data=df,\n",
    "    x='month',\n",
    "    hue='month',\n",
    "    order=df['month'].value_counts(ascending=False).index\n",
    ")\n",
    "countplot.set_title('Частота месяца, в котором был последний контакт')\n",
    "countplot.set_xlabel('Месяц');"
   ]
  },
  {
   "cell_type": "code",
   "execution_count": 21,
   "id": "e00705b4",
   "metadata": {},
   "outputs": [
    {
     "data": {
      "text/plain": [
       "month\n",
       "may    2617\n",
       "jul    1418\n",
       "aug    1385\n",
       "jun    1104\n",
       "apr     830\n",
       "nov     780\n",
       "feb     709\n",
       "oct     335\n",
       "jan     319\n",
       "sep     278\n",
       "mar     237\n",
       "dec      93\n",
       "Name: count, dtype: int64"
      ]
     },
     "execution_count": 21,
     "metadata": {},
     "output_type": "execute_result"
    }
   ],
   "source": [
    "# Выведем точное количество клиентов с которыми был установлен контакт в течении каждого месяца\n",
    "df['month'].value_counts()"
   ]
  },
  {
   "cell_type": "markdown",
   "id": "ff170786",
   "metadata": {},
   "source": [
    "**Выводы по графику**: Заметно, как `количество контактов с клиентами в мае преобладает` над остальными месяцами.\n",
    "\n",
    "Это может быть связано с будущим летним отпуском — клиентам могут быть предложены банковские продукты на непредвиденные расходы в течении их отпуска или открытие депозита на минимальный период времени, для наблюдения первых накоплений за срок летних каникул/отпуска и привлечения клиентов продлить срок и/или сумму вложения денежных средств в банке."
   ]
  },
  {
   "cell_type": "markdown",
   "id": "96016d97",
   "metadata": {},
   "source": [
    "#### Распределение сфер деятельности клиентов банка и их частота "
   ]
  },
  {
   "cell_type": "code",
   "execution_count": 22,
   "id": "c92069cc",
   "metadata": {},
   "outputs": [
    {
     "data": {
      "image/png": "[encoded data removed]",
      "text/plain": [
       "<Figure size 1500x500 with 1 Axes>"
      ]
     },
     "metadata": {},
     "output_type": "display_data"
    }
   ],
   "source": [
    "# Визуализируем сферу деятельности клиентов банка и их частоту\n",
    "fig = plt.figure(figsize=(15, 5))\n",
    "\n",
    "countplot = sns.countplot(\n",
    "    data=df,\n",
    "    x='job',\n",
    "    hue='job',\n",
    "    order=df['job'].value_counts(ascending=False).index,\n",
    ")\n",
    "countplot.set_title('Сферы занятости клиентов банка')\n",
    "countplot.set_xlabel('Cфера занятости');"
   ]
  },
  {
   "cell_type": "code",
   "execution_count": 23,
   "id": "4848b281",
   "metadata": {},
   "outputs": [
    {
     "data": {
      "text/plain": [
       "job\n",
       "management       2315\n",
       "blue-collar      1807\n",
       "technician       1638\n",
       "admin.           1246\n",
       "services          868\n",
       "retired           663\n",
       "self-employed     358\n",
       "unemployed        332\n",
       "student           326\n",
       "entrepreneur      300\n",
       "housemaid         252\n",
       "Name: count, dtype: int64"
      ]
     },
     "execution_count": 23,
     "metadata": {},
     "output_type": "execute_result"
    }
   ],
   "source": [
    "# Выведем точное количество наблюдений для каждой сферы деятельности клиентов\n",
    "df['job'].value_counts()"
   ]
  },
  {
   "cell_type": "markdown",
   "id": "a5b51b91",
   "metadata": {},
   "source": [
    "**Выводы по графику:** Самой `многочисленной же сферой деятельности` среди клиентов банка можно заслуженно считать категорию `'management'`, что неудивительно, кому как не сотрудникам, управляющими производствами, товарооборотом, предоставлением услуг в отделах или на предприятиях в целом знать о преимуществах долгосрочных перспектив продуктов и услуг банка и его услуг.\n",
    "\n",
    "Можно сделать вывод, что именно на эту сферу деятельности у банка идёт `наибольший акцент` в привлечении клиентуры."
   ]
  },
  {
   "cell_type": "markdown",
   "id": "f10278a7",
   "metadata": {},
   "source": [
    "#### Распределение результатов текущей маркетинговой кампании и предыдущих"
   ]
  },
  {
   "cell_type": "markdown",
   "id": "df1a3b53",
   "metadata": {},
   "source": [
    "Теперь давайте узнаем, `есть ли разница в результатах текущей маркетинговой кампании и предыдущей`. Возможно, люди, которые уже однажды согласились на предложение банка, более склонны принять его вновь. А возможно, ситуация ровно обратная.\n",
    "\n",
    "Узнаем, для какого статуса предыдущей маркетинговой кампании успех в текущей превалирует над количеством неудач:"
   ]
  },
  {
   "cell_type": "code",
   "execution_count": 24,
   "id": "df437ec3",
   "metadata": {},
   "outputs": [
    {
     "data": {
      "image/png": "[encoded data removed]",
      "text/plain": [
       "<Figure size 1000x500 with 1 Axes>"
      ]
     },
     "metadata": {},
     "output_type": "display_data"
    }
   ],
   "source": [
    "# Узнаем результаты прошлых маркетинговых кампаний и их успехи в привлечении клиентов в течении текущей\n",
    "fig = plt.figure(figsize=(10, 5))\n",
    "\n",
    "countplot = sns.countplot(\n",
    "    data=df,\n",
    "    x='poutcome',\n",
    "    hue='deposit',\n",
    "    palette=['green', 'red'],\n",
    "    order=df['poutcome'].value_counts(ascending=False).index,\n",
    "    legend=True\n",
    ")\n",
    "countplot.set_title('Результаты прошлых маркетинговых кампаний и их успехи в текущей')\n",
    "countplot.set_xlabel('Статус предыдущей маркетинговой кампании');"
   ]
  },
  {
   "cell_type": "code",
   "execution_count": 25,
   "id": "93c55d4a",
   "metadata": {},
   "outputs": [
    {
     "data": {
      "text/html": [
       "<div>\n",
       "<style scoped>\n",
       "    .dataframe tbody tr th:only-of-type {\n",
       "        vertical-align: middle;\n",
       "    }\n",
       "\n",
       "    .dataframe tbody tr th {\n",
       "        vertical-align: top;\n",
       "    }\n",
       "\n",
       "    .dataframe thead th {\n",
       "        text-align: right;\n",
       "    }\n",
       "</style>\n",
       "<table border=\"1\" class=\"dataframe\">\n",
       "  <thead>\n",
       "    <tr style=\"text-align: right;\">\n",
       "      <th>deposit</th>\n",
       "      <th>no</th>\n",
       "      <th>yes</th>\n",
       "    </tr>\n",
       "    <tr>\n",
       "      <th>poutcome</th>\n",
       "      <th></th>\n",
       "      <th></th>\n",
       "    </tr>\n",
       "  </thead>\n",
       "  <tbody>\n",
       "    <tr>\n",
       "      <th>failure</th>\n",
       "      <td>562</td>\n",
       "      <td>547</td>\n",
       "    </tr>\n",
       "    <tr>\n",
       "      <th>other</th>\n",
       "      <td>216</td>\n",
       "      <td>265</td>\n",
       "    </tr>\n",
       "    <tr>\n",
       "      <th>success</th>\n",
       "      <td>84</td>\n",
       "      <td>861</td>\n",
       "    </tr>\n",
       "    <tr>\n",
       "      <th>unknown</th>\n",
       "      <td>4562</td>\n",
       "      <td>3008</td>\n",
       "    </tr>\n",
       "  </tbody>\n",
       "</table>\n",
       "</div>"
      ],
      "text/plain": [
       "deposit     no   yes\n",
       "poutcome            \n",
       "failure    562   547\n",
       "other      216   265\n",
       "success     84   861\n",
       "unknown   4562  3008"
      ]
     },
     "execution_count": 25,
     "metadata": {},
     "output_type": "execute_result"
    }
   ],
   "source": [
    "# Создадим сводную таблицу чтобы узнать точное число наблюдений для каждого пересечения категорий\n",
    "pivot = df.pivot_table(\n",
    "    index='poutcome',\n",
    "    columns='deposit',\n",
    "    values='age',\n",
    "    aggfunc='count'\n",
    ")\n",
    "pivot"
   ]
  },
  {
   "cell_type": "markdown",
   "id": "a80f7708",
   "metadata": {},
   "source": [
    "**Выводы по графику**: Как мы можем заметить, не смотря на то, что категория `'unknown'` имеет `наибольшее количество` клиентов согласившихся открыть депозит — 3008 человек, именно категория `'success'` имеет `наибольшую долю` успешно привлечённых клиентов в течении текущей маркетинговой кампании по сравнению с другими категориями признака:\n",
    "\n",
    "* `'success'` — 0.91%\n",
    "\n",
    "* `'other'` — 0.55%\n",
    "\n",
    "* `'failure'` — 0.49%\n",
    "\n",
    "* `'unknown'` — 0.39%"
   ]
  },
  {
   "cell_type": "markdown",
   "id": "617bc9c3",
   "metadata": {},
   "source": [
    "#### Распределение зависимости результатов маркетинговых кампаний от месяца"
   ]
  },
  {
   "cell_type": "markdown",
   "id": "58c3e635",
   "metadata": {},
   "source": [
    "Теперь давайте узнаем, `какова зависимость результата маркетинговых кампаний от месяца`.\n",
    "\n",
    "Временные периоды, сезоны, близость к каким-то праздникам часто влияют на решение клиентов использовать определённые услуги:"
   ]
  },
  {
   "cell_type": "code",
   "execution_count": 26,
   "id": "74f31fe9",
   "metadata": {},
   "outputs": [
    {
     "data": {
      "image/png": "[encoded data removed]",
      "text/plain": [
       "<Figure size 1000x500 with 1 Axes>"
      ]
     },
     "metadata": {},
     "output_type": "display_data"
    }
   ],
   "source": [
    "# Узнаем результаты (по месяцам) при взаимодействии с клиентами в течении текущей маркетинговой кампании\n",
    "fig = plt.figure(figsize=(10, 5))\n",
    "\n",
    "countplot = sns.countplot(\n",
    "    data=df,\n",
    "    x='month',\n",
    "    hue='deposit',\n",
    "    palette=['green', 'red'],\n",
    "    order=df['month'].value_counts(ascending=False).index,\n",
    "    legend=True\n",
    ")\n",
    "countplot.set_title('Зависимость результата маркетинговых кампаний от месяца')\n",
    "countplot.set_xlabel('Месяц');"
   ]
  },
  {
   "cell_type": "code",
   "execution_count": 27,
   "id": "87d8b60a",
   "metadata": {},
   "outputs": [
    {
     "data": {
      "text/html": [
       "<div>\n",
       "<style scoped>\n",
       "    .dataframe tbody tr th:only-of-type {\n",
       "        vertical-align: middle;\n",
       "    }\n",
       "\n",
       "    .dataframe tbody tr th {\n",
       "        vertical-align: top;\n",
       "    }\n",
       "\n",
       "    .dataframe thead th {\n",
       "        text-align: right;\n",
       "    }\n",
       "</style>\n",
       "<table border=\"1\" class=\"dataframe\">\n",
       "  <thead>\n",
       "    <tr style=\"text-align: right;\">\n",
       "      <th>deposit</th>\n",
       "      <th>no</th>\n",
       "      <th>yes</th>\n",
       "    </tr>\n",
       "    <tr>\n",
       "      <th>month</th>\n",
       "      <th></th>\n",
       "      <th></th>\n",
       "    </tr>\n",
       "  </thead>\n",
       "  <tbody>\n",
       "    <tr>\n",
       "      <th>apr</th>\n",
       "      <td>317</td>\n",
       "      <td>513</td>\n",
       "    </tr>\n",
       "    <tr>\n",
       "      <th>aug</th>\n",
       "      <td>775</td>\n",
       "      <td>610</td>\n",
       "    </tr>\n",
       "    <tr>\n",
       "      <th>dec</th>\n",
       "      <td>9</td>\n",
       "      <td>84</td>\n",
       "    </tr>\n",
       "    <tr>\n",
       "      <th>feb</th>\n",
       "      <td>323</td>\n",
       "      <td>386</td>\n",
       "    </tr>\n",
       "    <tr>\n",
       "      <th>jan</th>\n",
       "      <td>194</td>\n",
       "      <td>125</td>\n",
       "    </tr>\n",
       "    <tr>\n",
       "      <th>jul</th>\n",
       "      <td>836</td>\n",
       "      <td>582</td>\n",
       "    </tr>\n",
       "    <tr>\n",
       "      <th>jun</th>\n",
       "      <td>606</td>\n",
       "      <td>498</td>\n",
       "    </tr>\n",
       "    <tr>\n",
       "      <th>mar</th>\n",
       "      <td>24</td>\n",
       "      <td>213</td>\n",
       "    </tr>\n",
       "    <tr>\n",
       "      <th>may</th>\n",
       "      <td>1776</td>\n",
       "      <td>841</td>\n",
       "    </tr>\n",
       "    <tr>\n",
       "      <th>nov</th>\n",
       "      <td>456</td>\n",
       "      <td>324</td>\n",
       "    </tr>\n",
       "    <tr>\n",
       "      <th>oct</th>\n",
       "      <td>62</td>\n",
       "      <td>273</td>\n",
       "    </tr>\n",
       "    <tr>\n",
       "      <th>sep</th>\n",
       "      <td>46</td>\n",
       "      <td>232</td>\n",
       "    </tr>\n",
       "  </tbody>\n",
       "</table>\n",
       "</div>"
      ],
      "text/plain": [
       "deposit    no  yes\n",
       "month             \n",
       "apr       317  513\n",
       "aug       775  610\n",
       "dec         9   84\n",
       "feb       323  386\n",
       "jan       194  125\n",
       "jul       836  582\n",
       "jun       606  498\n",
       "mar        24  213\n",
       "may      1776  841\n",
       "nov       456  324\n",
       "oct        62  273\n",
       "sep        46  232"
      ]
     },
     "execution_count": 27,
     "metadata": {},
     "output_type": "execute_result"
    }
   ],
   "source": [
    "# Создадим сводную таблицу чтобы узнать точное число наблюдений для каждого пересечения категорий\n",
    "pivot = df.pivot_table(\n",
    "    index='month',\n",
    "    columns='deposit',\n",
    "    values='age',\n",
    "    aggfunc='count'\n",
    ")\n",
    "pivot"
   ]
  },
  {
   "cell_type": "markdown",
   "id": "dcf4c52c",
   "metadata": {},
   "source": [
    "**Выводы по графику**: Как и в случае с частотой месяца, в котором был последний контакт с клиентом, `май` имеет как `наибольшее количество` успешно привлечённых к открытию депозита клиентов, так и неуспешно, что `напрямую зависило` от количества клиентов с которыми был контакт в течении этого месяца.\n",
    "\n",
    "Но если обратить внимание на такие месяца, как `март, октябрь, сентябрь и декабрь` заметно `явное преобладание` клиентов, согласившихся к открытию депозита над отказавшимися, что может быть результатом `преддверия` к каким-то праздникам или памятным датам, что в свою очередь `влияет на решение` клиентов использовать банковские продукты."
   ]
  },
  {
   "cell_type": "markdown",
   "id": "b49aced3",
   "metadata": {},
   "source": [
    "#### Распределение возрастных групп и их склонность открывать депозит в банке"
   ]
  },
  {
   "cell_type": "markdown",
   "id": "335a63aa",
   "metadata": {},
   "source": [
    "Нам бы очень хотелось посмотреть, `люди какого возраста чаще открывают депозиты`, а какого — реже. Однако, так как возрастной разброс достаточно большой, визуализация для всех возрастов или нахождение статистики для каждого возраста не будет содержательным. В аналитике принято `разделять людей по возрастным подгруппам` и делать выводы уже по ним.\n",
    "\n",
    "Создадим новую переменную, в которой будет находиться индикатор принадлежности к одной из следующих категорий:\n",
    "\n",
    "* `'<30'`;\n",
    "\n",
    "* `'30-40'`;\n",
    "\n",
    "* `'40-50'`;\n",
    "\n",
    "* `'50-60'`;\n",
    "\n",
    "* `'60+'`."
   ]
  },
  {
   "cell_type": "code",
   "execution_count": 28,
   "id": "95d56f1b",
   "metadata": {},
   "outputs": [
    {
     "data": {
      "image/png": "[encoded data removed]",
      "text/plain": [
       "<Figure size 1000x500 with 1 Axes>"
      ]
     },
     "metadata": {},
     "output_type": "display_data"
    }
   ],
   "source": [
    "# Создадим возрастные группы и определим, в каких группах более склонны открывать депозит, чем отказываться от предложения\n",
    "df['age group'] = df['age'].apply(lambda x: '<30' if x < 30\n",
    "                                  else '30-40' if x >= 30 and x < 40\n",
    "                                  else '40-50' if x >= 40 and x < 50\n",
    "                                  else '50-60' if x >= 50 and x < 60\n",
    "                                  else '60+')\n",
    "\n",
    "# Визуализируем полученные группы и их склонность открывать депозит в банке\n",
    "fig = plt.figure(figsize=(10, 5))\n",
    "\n",
    "countplot = sns.countplot(\n",
    "    data=df,\n",
    "    x='age group',\n",
    "    hue='deposit',\n",
    "    palette=['green', 'red'],\n",
    "    order=df['age group'].value_counts(ascending=False).index,\n",
    "    legend=True\n",
    ")\n",
    "countplot.set_title('Возрастные группы и их склонность открывать депозит')\n",
    "countplot.set_xlabel('Возрастная группа');"
   ]
  },
  {
   "cell_type": "code",
   "execution_count": 82,
   "id": "371748a4",
   "metadata": {},
   "outputs": [
    {
     "data": {
      "text/html": [
       "<div>\n",
       "<style scoped>\n",
       "    .dataframe tbody tr th:only-of-type {\n",
       "        vertical-align: middle;\n",
       "    }\n",
       "\n",
       "    .dataframe tbody tr th {\n",
       "        vertical-align: top;\n",
       "    }\n",
       "\n",
       "    .dataframe thead th {\n",
       "        text-align: right;\n",
       "    }\n",
       "</style>\n",
       "<table border=\"1\" class=\"dataframe\">\n",
       "  <thead>\n",
       "    <tr style=\"text-align: right;\">\n",
       "      <th>deposit</th>\n",
       "      <th>no</th>\n",
       "      <th>yes</th>\n",
       "    </tr>\n",
       "    <tr>\n",
       "      <th>age group</th>\n",
       "      <th></th>\n",
       "      <th></th>\n",
       "    </tr>\n",
       "  </thead>\n",
       "  <tbody>\n",
       "    <tr>\n",
       "      <th>30-40</th>\n",
       "      <td>2245</td>\n",
       "      <td>1716</td>\n",
       "    </tr>\n",
       "    <tr>\n",
       "      <th>40-50</th>\n",
       "      <td>1444</td>\n",
       "      <td>938</td>\n",
       "    </tr>\n",
       "    <tr>\n",
       "      <th>50-60</th>\n",
       "      <td>984</td>\n",
       "      <td>670</td>\n",
       "    </tr>\n",
       "    <tr>\n",
       "      <th>60+</th>\n",
       "      <td>157</td>\n",
       "      <td>496</td>\n",
       "    </tr>\n",
       "    <tr>\n",
       "      <th>&lt;30</th>\n",
       "      <td>594</td>\n",
       "      <td>861</td>\n",
       "    </tr>\n",
       "  </tbody>\n",
       "</table>\n",
       "</div>"
      ],
      "text/plain": [
       "deposit      no   yes\n",
       "age group            \n",
       "30-40      2245  1716\n",
       "40-50      1444   938\n",
       "50-60       984   670\n",
       "60+         157   496\n",
       "<30         594   861"
      ]
     },
     "execution_count": 82,
     "metadata": {},
     "output_type": "execute_result"
    }
   ],
   "source": [
    "# Создадим сводную таблицу чтобы узнать точное число наблюдений для каждого пересечения категорий\n",
    "pivot = df.pivot_table(\n",
    "    index='age group',\n",
    "    columns='deposit',\n",
    "    values='age',\n",
    "    aggfunc='count'\n",
    ")\n",
    "pivot"
   ]
  },
  {
   "cell_type": "code",
   "execution_count": 83,
   "id": "2e039fc4",
   "metadata": {},
   "outputs": [
    {
     "data": {
      "text/html": [
       "<div>\n",
       "<style scoped>\n",
       "    .dataframe tbody tr th:only-of-type {\n",
       "        vertical-align: middle;\n",
       "    }\n",
       "\n",
       "    .dataframe tbody tr th {\n",
       "        vertical-align: top;\n",
       "    }\n",
       "\n",
       "    .dataframe thead th {\n",
       "        text-align: right;\n",
       "    }\n",
       "</style>\n",
       "<table border=\"1\" class=\"dataframe\">\n",
       "  <thead>\n",
       "    <tr style=\"text-align: right;\">\n",
       "      <th></th>\n",
       "      <th></th>\n",
       "      <th>proportion</th>\n",
       "    </tr>\n",
       "    <tr>\n",
       "      <th>age group</th>\n",
       "      <th>deposit</th>\n",
       "      <th></th>\n",
       "    </tr>\n",
       "  </thead>\n",
       "  <tbody>\n",
       "    <tr>\n",
       "      <th rowspan=\"2\" valign=\"top\">30-40</th>\n",
       "      <th>no</th>\n",
       "      <td>0.566776</td>\n",
       "    </tr>\n",
       "    <tr>\n",
       "      <th>yes</th>\n",
       "      <td>0.433224</td>\n",
       "    </tr>\n",
       "    <tr>\n",
       "      <th rowspan=\"2\" valign=\"top\">40-50</th>\n",
       "      <th>no</th>\n",
       "      <td>0.606213</td>\n",
       "    </tr>\n",
       "    <tr>\n",
       "      <th>yes</th>\n",
       "      <td>0.393787</td>\n",
       "    </tr>\n",
       "    <tr>\n",
       "      <th rowspan=\"2\" valign=\"top\">50-60</th>\n",
       "      <th>no</th>\n",
       "      <td>0.594921</td>\n",
       "    </tr>\n",
       "    <tr>\n",
       "      <th>yes</th>\n",
       "      <td>0.405079</td>\n",
       "    </tr>\n",
       "    <tr>\n",
       "      <th rowspan=\"2\" valign=\"top\">60+</th>\n",
       "      <th>yes</th>\n",
       "      <td>0.759571</td>\n",
       "    </tr>\n",
       "    <tr>\n",
       "      <th>no</th>\n",
       "      <td>0.240429</td>\n",
       "    </tr>\n",
       "    <tr>\n",
       "      <th rowspan=\"2\" valign=\"top\">&lt;30</th>\n",
       "      <th>yes</th>\n",
       "      <td>0.591753</td>\n",
       "    </tr>\n",
       "    <tr>\n",
       "      <th>no</th>\n",
       "      <td>0.408247</td>\n",
       "    </tr>\n",
       "  </tbody>\n",
       "</table>\n",
       "</div>"
      ],
      "text/plain": [
       "                   proportion\n",
       "age group deposit            \n",
       "30-40     no         0.566776\n",
       "          yes        0.433224\n",
       "40-50     no         0.606213\n",
       "          yes        0.393787\n",
       "50-60     no         0.594921\n",
       "          yes        0.405079\n",
       "60+       yes        0.759571\n",
       "          no         0.240429\n",
       "<30       yes        0.591753\n",
       "          no         0.408247"
      ]
     },
     "execution_count": 83,
     "metadata": {},
     "output_type": "execute_result"
    }
   ],
   "source": [
    "# Выведем соотношение категорий целевого признака в зависимости от возрастной группы\n",
    "df.groupby('age group')['deposit'].value_counts(normalize=True).to_frame()"
   ]
  },
  {
   "cell_type": "markdown",
   "id": "5991022a",
   "metadata": {},
   "source": [
    "**Выводы по графику**: Из всех полученных нами возрастных групп, категории `'30-40'` и `'60+'` более склонны открывать депозит (по `количеству` для первой и `соотношению` для второй группы), чем отказываться от его открытия в банке после рекламного предложения:\n",
    "\n",
    "* `Склонность` первой группы может быть охарактеризована наличием `детей, семейным положением и образованием` (оплата за которое чаще всего происходит именно в виде студенческого кредита), что и делает эту группу `склонной` чаще всего не отказываться от предложений банка.\n",
    "\n",
    "* `Склонность` же второй группы (`'60+'`) может быть обусловлена [суммой пенсии для данной возрастной группы](https://pensionrights.org/resource/income-from-pensions/#:~:text=Median%20Pension%20Benefit&text=The%20median%20private%20pension%20benefit,benefit%20was%20%2424%2C980%20a%20year.), что так же `сподвигает` данный слой населения `чаще обращать внимание` на предложения банка и его услуги."
   ]
  },
  {
   "cell_type": "markdown",
   "id": "4fd96a58",
   "metadata": {},
   "source": [
    "### Cоотношение успешных и неуспешных контактов с клиентами от категорий, к которым относятся клиенты"
   ]
  },
  {
   "cell_type": "markdown",
   "id": "9b201f5b",
   "metadata": {},
   "source": [
    "Давайте посмотрим, `как зависит соотношение успешных и неуспешных контактов с клиентами` от категорий, к которым относятся клиенты:\n",
    "\n",
    "* семейное положение;\n",
    "\n",
    "* уровень образования;\n",
    "\n",
    "* сфера занятости.\n",
    "\n",
    "Построим визуализации, отражающие количество тех, кто открыл депозит, и тех, кто его не открыл, для всех категорий предложенных выше трёх признаков.\n",
    "\n",
    "Выясним, к каким категориям относится бόльшая часть людей? Среди каких групп населения есть тенденция соглашаться открывать депозит, а среди каких — отказываться?"
   ]
  },
  {
   "cell_type": "markdown",
   "id": "c75ceddc",
   "metadata": {},
   "source": [
    "#### Распределение сфер деятельности и их занятось клиентами банка"
   ]
  },
  {
   "cell_type": "code",
   "execution_count": 84,
   "id": "0d84a9e1",
   "metadata": {},
   "outputs": [
    {
     "data": {
      "image/png": "[encoded data removed]",
      "text/plain": [
       "<Figure size 1500x500 with 1 Axes>"
      ]
     },
     "metadata": {},
     "output_type": "display_data"
    }
   ],
   "source": [
    "# Построим визуализации для открывших и неоткрывших депозит клиентов в зависимости от вида профессиональной занятости\n",
    "fig = plt.figure(figsize=(15, 5))\n",
    "\n",
    "countplot = sns.countplot(\n",
    "    data=df,\n",
    "    x='job',\n",
    "    hue='deposit',\n",
    "    palette=['green', 'red'],\n",
    "    order=df['job'].value_counts(ascending=False).index,\n",
    "    legend=True\n",
    ")\n",
    "countplot.set_title('Сферы деятельности и их занятось клиентами банка')\n",
    "countplot.set_xlabel('Cфера занятости');"
   ]
  },
  {
   "cell_type": "code",
   "execution_count": 85,
   "id": "f59fc87a",
   "metadata": {},
   "outputs": [
    {
     "data": {
      "text/html": [
       "<div>\n",
       "<style scoped>\n",
       "    .dataframe tbody tr th:only-of-type {\n",
       "        vertical-align: middle;\n",
       "    }\n",
       "\n",
       "    .dataframe tbody tr th {\n",
       "        vertical-align: top;\n",
       "    }\n",
       "\n",
       "    .dataframe thead th {\n",
       "        text-align: right;\n",
       "    }\n",
       "</style>\n",
       "<table border=\"1\" class=\"dataframe\">\n",
       "  <thead>\n",
       "    <tr style=\"text-align: right;\">\n",
       "      <th>deposit</th>\n",
       "      <th>no</th>\n",
       "      <th>yes</th>\n",
       "    </tr>\n",
       "    <tr>\n",
       "      <th>job</th>\n",
       "      <th></th>\n",
       "      <th></th>\n",
       "    </tr>\n",
       "  </thead>\n",
       "  <tbody>\n",
       "    <tr>\n",
       "      <th>admin.</th>\n",
       "      <td>672</td>\n",
       "      <td>574</td>\n",
       "    </tr>\n",
       "    <tr>\n",
       "      <th>blue-collar</th>\n",
       "      <td>1155</td>\n",
       "      <td>652</td>\n",
       "    </tr>\n",
       "    <tr>\n",
       "      <th>entrepreneur</th>\n",
       "      <td>189</td>\n",
       "      <td>111</td>\n",
       "    </tr>\n",
       "    <tr>\n",
       "      <th>housemaid</th>\n",
       "      <td>153</td>\n",
       "      <td>99</td>\n",
       "    </tr>\n",
       "    <tr>\n",
       "      <th>management</th>\n",
       "      <td>1180</td>\n",
       "      <td>1135</td>\n",
       "    </tr>\n",
       "    <tr>\n",
       "      <th>retired</th>\n",
       "      <td>231</td>\n",
       "      <td>432</td>\n",
       "    </tr>\n",
       "    <tr>\n",
       "      <th>self-employed</th>\n",
       "      <td>197</td>\n",
       "      <td>161</td>\n",
       "    </tr>\n",
       "    <tr>\n",
       "      <th>services</th>\n",
       "      <td>523</td>\n",
       "      <td>345</td>\n",
       "    </tr>\n",
       "    <tr>\n",
       "      <th>student</th>\n",
       "      <td>81</td>\n",
       "      <td>245</td>\n",
       "    </tr>\n",
       "    <tr>\n",
       "      <th>technician</th>\n",
       "      <td>900</td>\n",
       "      <td>738</td>\n",
       "    </tr>\n",
       "    <tr>\n",
       "      <th>unemployed</th>\n",
       "      <td>143</td>\n",
       "      <td>189</td>\n",
       "    </tr>\n",
       "  </tbody>\n",
       "</table>\n",
       "</div>"
      ],
      "text/plain": [
       "deposit          no   yes\n",
       "job                      \n",
       "admin.          672   574\n",
       "blue-collar    1155   652\n",
       "entrepreneur    189   111\n",
       "housemaid       153    99\n",
       "management     1180  1135\n",
       "retired         231   432\n",
       "self-employed   197   161\n",
       "services        523   345\n",
       "student          81   245\n",
       "technician      900   738\n",
       "unemployed      143   189"
      ]
     },
     "execution_count": 85,
     "metadata": {},
     "output_type": "execute_result"
    }
   ],
   "source": [
    "# Создадим сводную таблицу чтобы узнать точное число наблюдений для каждого пересечения категорий\n",
    "pivot = df.pivot_table(\n",
    "    index='job',\n",
    "    columns='deposit',\n",
    "    values='age',\n",
    "    aggfunc='count'\n",
    ")\n",
    "pivot"
   ]
  },
  {
   "cell_type": "markdown",
   "id": "c4a76fd8",
   "metadata": {},
   "source": [
    "**Выводы по графику**: Как мы `убедились ранее и подтверждаем сейчас`, категория сферы деятельности `'management'` имеет `наибольшее число` среди всех клиентов банка, имея примерно `одинаковую тенденцию` как отказываться так и соглашаться на предложения банка и его услуг, что делает эту категорию `наиболее прибыльной` среди всех представленных нам сфер деятельности клиентов."
   ]
  },
  {
   "cell_type": "markdown",
   "id": "afc73f3e",
   "metadata": {},
   "source": [
    "#### Распределение уровней образования и их занятось клиентами банка"
   ]
  },
  {
   "cell_type": "code",
   "execution_count": 86,
   "id": "16333967",
   "metadata": {},
   "outputs": [
    {
     "data": {
      "image/png": "[encoded data removed]",
      "text/plain": [
       "<Figure size 1000x500 with 1 Axes>"
      ]
     },
     "metadata": {},
     "output_type": "display_data"
    }
   ],
   "source": [
    "# Построим визуализации для открывших и неоткрывших депозит клиентов в зависимости от уровня образования\n",
    "fig = plt.figure(figsize=(10, 5))\n",
    "\n",
    "countplot = sns.countplot(\n",
    "    data=df,\n",
    "    x='education',\n",
    "    hue='deposit',\n",
    "    palette=['green', 'red'],\n",
    "    order=df['education'].value_counts(ascending=False).index,\n",
    "    legend=True\n",
    ")\n",
    "countplot.set_title('Уровни образования и их занятось клиентами банка')\n",
    "countplot.set_xlabel('Уровень образования');"
   ]
  },
  {
   "cell_type": "code",
   "execution_count": 87,
   "id": "793ce075",
   "metadata": {},
   "outputs": [
    {
     "data": {
      "text/html": [
       "<div>\n",
       "<style scoped>\n",
       "    .dataframe tbody tr th:only-of-type {\n",
       "        vertical-align: middle;\n",
       "    }\n",
       "\n",
       "    .dataframe tbody tr th {\n",
       "        vertical-align: top;\n",
       "    }\n",
       "\n",
       "    .dataframe thead th {\n",
       "        text-align: right;\n",
       "    }\n",
       "</style>\n",
       "<table border=\"1\" class=\"dataframe\">\n",
       "  <thead>\n",
       "    <tr style=\"text-align: right;\">\n",
       "      <th>deposit</th>\n",
       "      <th>no</th>\n",
       "      <th>yes</th>\n",
       "    </tr>\n",
       "    <tr>\n",
       "      <th>education</th>\n",
       "      <th></th>\n",
       "      <th></th>\n",
       "    </tr>\n",
       "  </thead>\n",
       "  <tbody>\n",
       "    <tr>\n",
       "      <th>primary</th>\n",
       "      <td>832</td>\n",
       "      <td>517</td>\n",
       "    </tr>\n",
       "    <tr>\n",
       "      <th>secondary</th>\n",
       "      <td>3066</td>\n",
       "      <td>2451</td>\n",
       "    </tr>\n",
       "    <tr>\n",
       "      <th>tertiary</th>\n",
       "      <td>1526</td>\n",
       "      <td>1713</td>\n",
       "    </tr>\n",
       "  </tbody>\n",
       "</table>\n",
       "</div>"
      ],
      "text/plain": [
       "deposit      no   yes\n",
       "education            \n",
       "primary     832   517\n",
       "secondary  3066  2451\n",
       "tertiary   1526  1713"
      ]
     },
     "execution_count": 87,
     "metadata": {},
     "output_type": "execute_result"
    }
   ],
   "source": [
    "# Создадим сводную таблицу чтобы узнать точное число наблюдений для каждого пересечения категорий\n",
    "pivot = df.pivot_table(\n",
    "    index='education',\n",
    "    columns='deposit',\n",
    "    values='age',\n",
    "    aggfunc='count'\n",
    ")\n",
    "pivot"
   ]
  },
  {
   "cell_type": "markdown",
   "id": "eb35c6fd",
   "metadata": {},
   "source": [
    "**Выводы по графику**: Из категорий образования, `наибольшую долю занятости клиентами банка` занимают категории `'secondary'` и `'tertiary'`, на что мы также `обращали внимание` при анализе признака возрастных групп (признак `age_group`) – оплата за образование чаще всего происходит именно в виде `студенческого кредита`, ввиду зачастую большой величины стоимости высшего образования."
   ]
  },
  {
   "cell_type": "markdown",
   "id": "7dd59a3f",
   "metadata": {},
   "source": [
    "#### Распределение семейного положения и его занятось клиентами банка"
   ]
  },
  {
   "cell_type": "code",
   "execution_count": 88,
   "id": "738224f8",
   "metadata": {},
   "outputs": [
    {
     "data": {
      "image/png": "[encoded data removed]",
      "text/plain": [
       "<Figure size 1000x500 with 1 Axes>"
      ]
     },
     "metadata": {},
     "output_type": "display_data"
    }
   ],
   "source": [
    "# Построим визуализации для открывших и неоткрывших депозит клиентов в зависимости от их семейного статуса\n",
    "fig = plt.figure(figsize=(10, 5))\n",
    "\n",
    "countplot = sns.countplot(\n",
    "    data=df,\n",
    "    x='marital',\n",
    "    hue='deposit',\n",
    "    palette=['green', 'red'],\n",
    "    order=df['marital'].value_counts(ascending=False).index,\n",
    "    legend=True\n",
    ")\n",
    "countplot.set_title('Семейное положение и их занятось клиентами банка')\n",
    "countplot.set_xlabel('Семейное положение');"
   ]
  },
  {
   "cell_type": "code",
   "execution_count": 89,
   "id": "89a2f57f",
   "metadata": {},
   "outputs": [
    {
     "data": {
      "text/html": [
       "<div>\n",
       "<style scoped>\n",
       "    .dataframe tbody tr th:only-of-type {\n",
       "        vertical-align: middle;\n",
       "    }\n",
       "\n",
       "    .dataframe tbody tr th {\n",
       "        vertical-align: top;\n",
       "    }\n",
       "\n",
       "    .dataframe thead th {\n",
       "        text-align: right;\n",
       "    }\n",
       "</style>\n",
       "<table border=\"1\" class=\"dataframe\">\n",
       "  <thead>\n",
       "    <tr style=\"text-align: right;\">\n",
       "      <th>deposit</th>\n",
       "      <th>no</th>\n",
       "      <th>yes</th>\n",
       "    </tr>\n",
       "    <tr>\n",
       "      <th>marital</th>\n",
       "      <th></th>\n",
       "      <th></th>\n",
       "    </tr>\n",
       "  </thead>\n",
       "  <tbody>\n",
       "    <tr>\n",
       "      <th>divorced</th>\n",
       "      <td>624</td>\n",
       "      <td>553</td>\n",
       "    </tr>\n",
       "    <tr>\n",
       "      <th>married</th>\n",
       "      <td>3303</td>\n",
       "      <td>2412</td>\n",
       "    </tr>\n",
       "    <tr>\n",
       "      <th>single</th>\n",
       "      <td>1497</td>\n",
       "      <td>1716</td>\n",
       "    </tr>\n",
       "  </tbody>\n",
       "</table>\n",
       "</div>"
      ],
      "text/plain": [
       "deposit     no   yes\n",
       "marital             \n",
       "divorced   624   553\n",
       "married   3303  2412\n",
       "single    1497  1716"
      ]
     },
     "execution_count": 89,
     "metadata": {},
     "output_type": "execute_result"
    }
   ],
   "source": [
    "# Создадим сводную таблицу чтобы узнать точное число наблюдений для каждого пересечения категорий\n",
    "pivot = df.pivot_table(\n",
    "    index='marital',\n",
    "    columns='deposit',\n",
    "    values='age',\n",
    "    aggfunc='count'\n",
    ")\n",
    "pivot"
   ]
  },
  {
   "cell_type": "markdown",
   "id": "99cec9b7",
   "metadata": {},
   "source": [
    "**Выводы по графику**: Среди представленных нам категорий семейного положения `тенденция открывать депозит`, а не отказываться от его открытия наблюдается у группы `'single'`, у категории `'married'` наблюдается именно `наибольшее количество` открытых депозитов по сравнению с другими группами:\n",
    "\n",
    "* `Склонность` 'одиночек' может быть явно связана с `необходимостью в тратах`, которые один человек часто может себе `не позволить`, что и делает эту группу `более склонной к открытию депозита` и лояльной по отношению к продуктам банка.\n",
    "\n",
    "* Наличие `преобладающего количества` открытых депозитов среди группы `женатых и замужних групп граждан` так же может быть `напрямую взаимосвязанно` с наличием детей, образованием и прочими тратами, с которыми сталкиваются пары при совместной жизни, от чего и возникает `необходимость` в использовании банковских предложений и открытия депозита для будущих непредвиденных расходов.   "
   ]
  },
  {
   "cell_type": "markdown",
   "id": "eb8f094b",
   "metadata": {},
   "source": [
    "#### Распределение пересечений категорий образования и семейного положения"
   ]
  },
  {
   "cell_type": "markdown",
   "id": "8956f64b",
   "metadata": {},
   "source": [
    "Ранее мы `посмотрели различные категории отдельно`. Но что будет, если посмотреть на пересечения категорий? Каких людей среди открывших депозит больше: одиноких с высшим образованием или разведённых с более низким уровнем образования?\n",
    "\n",
    "Разделим таблицу на две части: для тех, кто открыл депозит, и для тех, кто не открыл. Для каждой части построим сводную диаграмму по уровню образования и семейному положению. Результаты представим в виде тепловых карт. \n",
    "\n",
    "Посмотрим, различаются ли наиболее популярные группы для открывших депозит и для неоткрывших, а так же какой вывод можно сделать, исходя из полученных данных?"
   ]
  },
  {
   "cell_type": "code",
   "execution_count": 90,
   "id": "35ab0413",
   "metadata": {},
   "outputs": [
    {
     "data": {
      "text/html": [
       "<div>\n",
       "<style scoped>\n",
       "    .dataframe tbody tr th:only-of-type {\n",
       "        vertical-align: middle;\n",
       "    }\n",
       "\n",
       "    .dataframe tbody tr th {\n",
       "        vertical-align: top;\n",
       "    }\n",
       "\n",
       "    .dataframe thead th {\n",
       "        text-align: right;\n",
       "    }\n",
       "</style>\n",
       "<table border=\"1\" class=\"dataframe\">\n",
       "  <thead>\n",
       "    <tr style=\"text-align: right;\">\n",
       "      <th>marital</th>\n",
       "      <th>divorced</th>\n",
       "      <th>married</th>\n",
       "      <th>single</th>\n",
       "    </tr>\n",
       "    <tr>\n",
       "      <th>education</th>\n",
       "      <th></th>\n",
       "      <th></th>\n",
       "      <th></th>\n",
       "    </tr>\n",
       "  </thead>\n",
       "  <tbody>\n",
       "    <tr>\n",
       "      <th>primary</th>\n",
       "      <td>96</td>\n",
       "      <td>339</td>\n",
       "      <td>82</td>\n",
       "    </tr>\n",
       "    <tr>\n",
       "      <th>secondary</th>\n",
       "      <td>283</td>\n",
       "      <td>1289</td>\n",
       "      <td>879</td>\n",
       "    </tr>\n",
       "    <tr>\n",
       "      <th>tertiary</th>\n",
       "      <td>174</td>\n",
       "      <td>784</td>\n",
       "      <td>755</td>\n",
       "    </tr>\n",
       "  </tbody>\n",
       "</table>\n",
       "</div>"
      ],
      "text/plain": [
       "marital    divorced  married  single\n",
       "education                           \n",
       "primary          96      339      82\n",
       "secondary       283     1289     879\n",
       "tertiary        174      784     755"
      ]
     },
     "execution_count": 90,
     "metadata": {},
     "output_type": "execute_result"
    }
   ],
   "source": [
    "# Создадим сводную таблицу чтобы узнать точное число наблюдений для каждого пересечения категорий\n",
    "pivot = opened_deposit.pivot_table(\n",
    "    values= 'deposit',\n",
    "    index= 'education',\n",
    "    columns= 'marital',\n",
    "    aggfunc='count'\n",
    ")\n",
    "pivot"
   ]
  },
  {
   "cell_type": "code",
   "execution_count": 91,
   "id": "90cf4516",
   "metadata": {},
   "outputs": [
    {
     "data": {
      "image/png": "[encoded data removed]",
      "text/plain": [
       "<Figure size 640x480 with 2 Axes>"
      ]
     },
     "metadata": {},
     "output_type": "display_data"
    }
   ],
   "source": [
    "# Визуализируем полученную сводную таблицу в виде тепловой карты\n",
    "heatmap = sns.heatmap(data=pivot, cmap='YlGnBu')\n",
    "heatmap.set_title('Тепловая карта групп открывших депозит', fontsize=13);"
   ]
  },
  {
   "cell_type": "code",
   "execution_count": 92,
   "id": "e93daf1c",
   "metadata": {},
   "outputs": [
    {
     "data": {
      "text/html": [
       "<div>\n",
       "<style scoped>\n",
       "    .dataframe tbody tr th:only-of-type {\n",
       "        vertical-align: middle;\n",
       "    }\n",
       "\n",
       "    .dataframe tbody tr th {\n",
       "        vertical-align: top;\n",
       "    }\n",
       "\n",
       "    .dataframe thead th {\n",
       "        text-align: right;\n",
       "    }\n",
       "</style>\n",
       "<table border=\"1\" class=\"dataframe\">\n",
       "  <thead>\n",
       "    <tr style=\"text-align: right;\">\n",
       "      <th>marital</th>\n",
       "      <th>divorced</th>\n",
       "      <th>married</th>\n",
       "      <th>single</th>\n",
       "    </tr>\n",
       "    <tr>\n",
       "      <th>education</th>\n",
       "      <th></th>\n",
       "      <th></th>\n",
       "      <th></th>\n",
       "    </tr>\n",
       "  </thead>\n",
       "  <tbody>\n",
       "    <tr>\n",
       "      <th>primary</th>\n",
       "      <td>91</td>\n",
       "      <td>641</td>\n",
       "      <td>100</td>\n",
       "    </tr>\n",
       "    <tr>\n",
       "      <th>secondary</th>\n",
       "      <td>370</td>\n",
       "      <td>1830</td>\n",
       "      <td>866</td>\n",
       "    </tr>\n",
       "    <tr>\n",
       "      <th>tertiary</th>\n",
       "      <td>163</td>\n",
       "      <td>832</td>\n",
       "      <td>531</td>\n",
       "    </tr>\n",
       "  </tbody>\n",
       "</table>\n",
       "</div>"
      ],
      "text/plain": [
       "marital    divorced  married  single\n",
       "education                           \n",
       "primary          91      641     100\n",
       "secondary       370     1830     866\n",
       "tertiary        163      832     531"
      ]
     },
     "execution_count": 92,
     "metadata": {},
     "output_type": "execute_result"
    }
   ],
   "source": [
    "# Создадим сводную таблицу чтобы узнать точное число наблюдений для каждого пересечения категорий\n",
    "pivot = unopened_deposit.pivot_table(\n",
    "    values= 'deposit',\n",
    "    index= 'education',\n",
    "    columns= 'marital',\n",
    "    aggfunc='count'\n",
    ")\n",
    "pivot"
   ]
  },
  {
   "cell_type": "code",
   "execution_count": 93,
   "id": "31b0b024",
   "metadata": {},
   "outputs": [
    {
     "data": {
      "image/png": "[encoded data removed]",
      "text/plain": [
       "<Figure size 640x480 with 2 Axes>"
      ]
     },
     "metadata": {},
     "output_type": "display_data"
    }
   ],
   "source": [
    "# Визуализируем полученную сводную таблицу в виде тепловой карты\n",
    "heatmap = sns.heatmap(data=pivot, cmap='YlGnBu')\n",
    "heatmap.set_title('Тепловая карта групп не открывших депозит', fontsize=13);"
   ]
  },
  {
   "cell_type": "markdown",
   "id": "2efd001c",
   "metadata": {},
   "source": [
    "**Выводы по графикам**: Закрепляя наши наблюдения касательно семейного положения и категорий образования у групп граждан, пересечение категорий `'secondary'` и `'married'` в обеих выборках являются `самыми многочисленными`.\n",
    "\n",
    "Не смотря на это у нас `нет оснований утверждать`, что у граждан на пересечении данных категорий есть явная тенденция чаще соглашаться на предложения банка.\n",
    "\n",
    "Тем не менее, `количество наблюдений` для пересечения данных категорий в выборке `opened_deposit` заметно `преобладают над остальными представленными категориями`. В свою очередь это указывает на то, что по сравнению с другими группами, клиенты на пересечении категорий `'secondary'` и `'married'` чаще остальных `соглашаются на предложения банка`."
   ]
  },
  {
   "cell_type": "markdown",
   "id": "2e031e5d",
   "metadata": {},
   "source": [
    "⭐ Мы справились с `разведывательным анализом` и уже кое-что знаем о наших данных: теперь мы понимаем, какие в целом клиенты обслуживаются в банке, а также знаем, какие возрастные и социальные группы склонны чаще соглашаться на предложение банка."
   ]
  },
  {
   "cell_type": "markdown",
   "id": "dfd805c0",
   "metadata": {},
   "source": [
    "## Преобразование данных"
   ]
  },
  {
   "cell_type": "markdown",
   "id": "a7cc402e",
   "metadata": {},
   "source": [
    "✍ Перед тем как перейти к построению модели, осталось сделать ещё один шаг.\n",
    "\n",
    "* Следует помнить, что алгоритмы машинного обучения не могут обрабатывать категориальные признаки в их обычном виде. По ходу работы алгоритм считает показатели (например, средние значения), которые можно вычислить только для количественных признаков. Поэтому нам необходимо преобразовать категориальные признаки в более удобный формат.\n",
    "\n",
    "* Необходимо масштабировать и трансформировать некоторые признаки для того, чтобы улучшить качество модели.\n",
    "\n",
    "* Надо отобрать признаки, которые мы будем использовать для обучения модели."
   ]
  },
  {
   "cell_type": "markdown",
   "id": "dabd895b",
   "metadata": {},
   "source": [
    "Начнём с `обработки категориальных порядковых признаков`.\n",
    "\n",
    "Обработаем их с помощью метода `LabelEncoder`, используя метод без дополнительных настроек:"
   ]
  },
  {
   "cell_type": "code",
   "execution_count": 94,
   "id": "1e815773",
   "metadata": {},
   "outputs": [],
   "source": [
    "# Преобразуем бинарные переменные в представление из нулей и единиц\n",
    "le = LabelEncoder()\n",
    "df['education'] = le.fit_transform(y=df['education'])\n",
    "df['deposit'] = le.fit_transform(y=df['deposit'])\n",
    "df['default'] = le.fit_transform(y=df['default'])\n",
    "df['housing'] = le.fit_transform(y=df['housing'])\n",
    "df['loan'] = le.fit_transform(y=df['loan'])\n",
    "df['age group'] = le.fit_transform(df['age group'])"
   ]
  },
  {
   "cell_type": "markdown",
   "id": "d9d4a78b",
   "metadata": {},
   "source": [
    "Теперь нам необходимо `преобразовать номинальные переменные`, которые могут принимать несколько различных значений. Это следующие переменные:\n",
    "\n",
    "* `'job'`;\n",
    "\n",
    "* `'marital'`;\n",
    "\n",
    "* `'contact'`;\n",
    "\n",
    "* `'month'`;\n",
    "\n",
    "* `'poutcome'`.\n",
    "\n",
    "Создадим для них *dummy*-переменные и добавим их в набор данных:"
   ]
  },
  {
   "cell_type": "code",
   "execution_count": 95,
   "id": "b996883f",
   "metadata": {},
   "outputs": [],
   "source": [
    "# Создаём dummy-переменные для необходимых признаков\n",
    "df = pd.get_dummies(df, columns=['job', 'marital', 'contact', 'month', 'poutcome'])"
   ]
  },
  {
   "cell_type": "markdown",
   "id": "a44a433c",
   "metadata": {},
   "source": [
    "Теперь давайте `оценим мультиколлинеарность и взаимосвязь признаков с целевой переменной`. Для этого построим матрицу корреляций:"
   ]
  },
  {
   "cell_type": "code",
   "execution_count": 96,
   "id": "1c884c1a",
   "metadata": {},
   "outputs": [
    {
     "data": {
      "text/plain": [
       "deposit              1.000000\n",
       "duration             0.457818\n",
       "poutcome_success     0.288491\n",
       "contact_cellular     0.223944\n",
       "pdays                0.147917\n",
       "previous             0.141102\n",
       "age group            0.136243\n",
       "balance              0.135893\n",
       "month_mar            0.135348\n",
       "month_oct            0.130599\n",
       "month_sep            0.125239\n",
       "job_student          0.105563\n",
       "job_retired          0.100090\n",
       "education            0.098253\n",
       "marital_single       0.097005\n",
       "month_apr            0.092888\n",
       "month_dec            0.085041\n",
       "month_feb            0.044728\n",
       "poutcome_other       0.039319\n",
       "job_unemployed       0.039196\n",
       "job_management       0.029566\n",
       "age                  0.024357\n",
       "poutcome_failure     0.021124\n",
       "contact_telephone    0.007064\n",
       "marital_divorced     0.004808\n",
       "job_admin.          -0.001927\n",
       "job_self-employed   -0.005194\n",
       "month_jun           -0.008533\n",
       "job_technician      -0.011190\n",
       "month_aug           -0.018225\n",
       "job_housemaid       -0.022572\n",
       "month_jan           -0.025847\n",
       "month_nov           -0.027754\n",
       "job_entrepreneur    -0.032706\n",
       "default             -0.038872\n",
       "job_services        -0.040433\n",
       "month_jul           -0.042779\n",
       "day                 -0.056878\n",
       "marital_married     -0.094246\n",
       "job_blue-collar     -0.095845\n",
       "loan                -0.107240\n",
       "campaign            -0.130707\n",
       "month_may           -0.168203\n",
       "housing             -0.200290\n",
       "poutcome_unknown    -0.228300\n",
       "contact_unknown     -0.249294\n",
       "Name: deposit, dtype: float64"
      ]
     },
     "execution_count": 96,
     "metadata": {},
     "output_type": "execute_result"
    }
   ],
   "source": [
    "# Построим корреляционную матрицу для оценки данныых на предмет наличия мультиколлинеарности\n",
    "correlation_matrix  = df.corr()\n",
    "correlation_matrix['deposit'].sort_values(ascending=False)"
   ]
  },
  {
   "cell_type": "markdown",
   "id": "b5e918d5",
   "metadata": {},
   "source": [
    "Теперь нам необходимо `определить целевую переменную и предикторы`, а также `разделить выборку на обучающую и тестовую`.\n",
    "\n",
    "При разбиении задим параметр `random_state` = 42, а размер тестовой выборки возьмите за `0.33`. Не забудем так же добавить аргумент, определяющий сохранение соотношений целевого признака:"
   ]
  },
  {
   "cell_type": "code",
   "execution_count": 97,
   "id": "79f3e432",
   "metadata": {},
   "outputs": [],
   "source": [
    "# Определяем 'X' — предикторы и 'y' — целевую переменную \n",
    "X = df.drop(['deposit'], axis=1)\n",
    "y = df['deposit']\n",
    " \n",
    "# Разделяем выборки на тренировочную и тестовую\n",
    "X_train, X_test, y_train, y_test = train_test_split(X, y, stratify=y, random_state = 42, test_size = 0.33)"
   ]
  },
  {
   "cell_type": "code",
   "execution_count": 98,
   "id": "e3a097a4",
   "metadata": {},
   "outputs": [
    {
     "name": "stdout",
     "output_type": "stream",
     "text": [
      "Размер тренировочной выборки: (6770, 45)\n",
      "Размер тестовой выборки: (3335, 45)\n"
     ]
    }
   ],
   "source": [
    "# Рассчитаем показатели размерности в выборках\n",
    "print(f'Размер тренировочной выборки: {X_train.shape}')\n",
    "print(f'Размер тестовой выборки: {X_test.shape}')"
   ]
  },
  {
   "cell_type": "markdown",
   "id": "b81a6eb0",
   "metadata": {},
   "source": [
    "На данный момент у нас `достаточно много признаков`: скорее всего, `не все из них будут важны`. Давайте оставим лишь те, которые `сильнее всего связаны с целевой переменной` и `точно будут вносить вклад в повышение качества модели`.\n",
    "\n",
    "С помощью `SelectKBest` отберём 15 признаков, наилучшим образом подходящих для использования в задаче. Отбор реализуйем по обучающей выборке, используя параметр `score_func = f_classif`.\n",
    "\n",
    "**Важно помнить, что на данном этапе нам необходимо оставить только те признаки, которые содержат лишь числовые значения!**"
   ]
  },
  {
   "cell_type": "code",
   "execution_count": 99,
   "id": "0f6e03e0",
   "metadata": {},
   "outputs": [
    {
     "data": {
      "text/plain": [
       "array(['balance', 'housing', 'duration', 'campaign', 'pdays', 'previous',\n",
       "       'age group', 'contact_cellular', 'contact_unknown', 'month_mar',\n",
       "       'month_may', 'month_oct', 'month_sep', 'poutcome_success',\n",
       "       'poutcome_unknown'], dtype=object)"
      ]
     },
     "execution_count": 99,
     "metadata": {},
     "output_type": "execute_result"
    }
   ],
   "source": [
    "# Создаём объект класса 'SelectKBest' и обучаем его на тестовой выборке\n",
    "selector = SelectKBest(f_classif, k=15)\n",
    "selector.fit(X_train, y_train)\n",
    "\n",
    "# Для удобства упаковываем полученный массив из признаков в переменную\n",
    "features = selector.get_feature_names_out()\n",
    "\n",
    "# Для проверки результата выведем полученный массив\n",
    "features"
   ]
  },
  {
   "cell_type": "code",
   "execution_count": 100,
   "id": "1667c2fb",
   "metadata": {},
   "outputs": [],
   "source": [
    "# Преобразуем наши предикторы в выборках на основе найденных методом признаков \n",
    "X_train = X_train[features]\n",
    "X_test = X_test[features]"
   ]
  },
  {
   "cell_type": "markdown",
   "id": "9635627c",
   "metadata": {},
   "source": [
    "Теперь данные необходимо `нормализовать`.\n",
    "\n",
    "Есть разные варианты нормализации, но мы будем использовать *min-max*-нормализацию.\n",
    "\n",
    "**Не забываем, что нормализация требуется для предикторов, а не для целевой переменной!**\n",
    "\n",
    "Нормализуем предикторы в обучающей и тестовой выборках:"
   ]
  },
  {
   "cell_type": "code",
   "execution_count": 101,
   "id": "e91b06f3",
   "metadata": {},
   "outputs": [],
   "source": [
    "# Нормализуем данные с помощью класса 'MinMaxScaler'\n",
    "scaler = MinMaxScaler()\n",
    "X_train = scaler.fit_transform(X_train)\n",
    "X_test = scaler.transform(X_test)"
   ]
  },
  {
   "cell_type": "markdown",
   "id": "f81b9165",
   "metadata": {},
   "source": [
    "⭐ Мы успешно отобрали самые значимые для наших моделей признаки и преобразовали наши выборки, а значит, мы готовы к самому ответственному этапу нашего проекта — `решении задачи классификации` →"
   ]
  },
  {
   "cell_type": "markdown",
   "id": "0894c632",
   "metadata": {},
   "source": [
    "## Решение задачи классификации: логистическая регрессия и решающие деревья"
   ]
  },
  {
   "cell_type": "markdown",
   "id": "986c6013",
   "metadata": {},
   "source": [
    "✍ Настало время классификации!"
   ]
  },
  {
   "cell_type": "markdown",
   "id": "4f032d9b",
   "metadata": {},
   "source": [
    "Для начала реализуем самый простой алгоритм, который нам известен — `логистическую регрессию`. В качестве `алгоритма оптимизации` будем использовать `'sag'`, в качестве значения параметра `random_state` возьмём число 42 и запустим 1000 `итераций`.\n",
    "\n",
    "Оценим качество модели на тестовой выборке:"
   ]
  },
  {
   "cell_type": "code",
   "execution_count": 102,
   "id": "8acc0166",
   "metadata": {},
   "outputs": [
    {
     "name": "stdout",
     "output_type": "stream",
     "text": [
      "Accuracy на тренировочной выборке: 0.82\n",
      "Accuracy на тестовой выборке: 0.8\n"
     ]
    }
   ],
   "source": [
    "# Обучим логистическую регрессию и рассчитаем метрики качества — 'accuracy'\n",
    "lr = linear_model.LogisticRegression(solver='sag', max_iter=1000, random_state=42)\n",
    "\n",
    "lr.fit(X_train, y_train)\n",
    "\n",
    "y_train_pred = lr.predict(X_train)\n",
    "y_test_pred = lr.predict(X_test)\n",
    "\n",
    "print(f'Accuracy на тренировочной выборке: {np.round(metrics.accuracy_score(y_train, y_train_pred), 2)}')\n",
    "print(f'Accuracy на тестовой выборке: {np.round(metrics.accuracy_score(y_test, y_test_pred), 2)}')"
   ]
  },
  {
   "cell_type": "markdown",
   "id": "57374b72",
   "metadata": {},
   "source": [
    "Простой алгоритм обучен. Теперь давайте обучим ещё один алгоритм — `решающие деревья`. В качестве параметров для начала возьмём следующие:\n",
    "\n",
    "* `criterion = 'entropy'`;\n",
    "\n",
    "* `random_state = 42`.\n",
    "\n",
    "Остальные параметры оставим по умолчанию:"
   ]
  },
  {
   "cell_type": "code",
   "execution_count": 103,
   "id": "c91a588b",
   "metadata": {},
   "outputs": [
    {
     "name": "stdout",
     "output_type": "stream",
     "text": [
      "Train:\n",
      "              precision    recall  f1-score   support\n",
      "\n",
      "           0       1.00      1.00      1.00      3634\n",
      "           1       1.00      1.00      1.00      3136\n",
      "\n",
      "    accuracy                           1.00      6770\n",
      "   macro avg       1.00      1.00      1.00      6770\n",
      "weighted avg       1.00      1.00      1.00      6770\n",
      "\n",
      "Test:\n",
      "              precision    recall  f1-score   support\n",
      "\n",
      "           0       0.76      0.78      0.77      1790\n",
      "           1       0.74      0.71      0.72      1545\n",
      "\n",
      "    accuracy                           0.75      3335\n",
      "   macro avg       0.75      0.74      0.75      3335\n",
      "weighted avg       0.75      0.75      0.75      3335\n",
      "\n"
     ]
    }
   ],
   "source": [
    "# Обучим решающие деревья и рассчитаем метрики качества\n",
    "dt = tree.DecisionTreeClassifier(criterion='entropy', random_state=42)\n",
    "\n",
    "dt.fit(X_train, y_train)\n",
    "\n",
    "y_train_pred = dt.predict(X_train)\n",
    "y_test_pred = dt.predict(X_test)\n",
    "\n",
    "print('Train:')\n",
    "print(metrics.classification_report(y_train, y_train_pred))\n",
    "print('Test:')\n",
    "print(metrics.classification_report(y_test, y_test_pred))"
   ]
  },
  {
   "cell_type": "markdown",
   "id": "2d39d5a3",
   "metadata": {},
   "source": [
    "Переберём различные `максимальные глубины деревьев` и найдём `глубину дерева`, для которой будет максимальное значение метрики *`accuracy`*, но при этом ещё не будет наблюдаться `переобучения` (т.е. не будет расти качество на обучающей выборке при неизменном качестве на тестовой):"
   ]
  },
  {
   "cell_type": "code",
   "execution_count": 104,
   "id": "f964471d",
   "metadata": {},
   "outputs": [
    {
     "name": "stdout",
     "output_type": "stream",
     "text": [
      "Train:\n",
      "              precision    recall  f1-score   support\n",
      "\n",
      "           0       0.86      0.84      0.85      3634\n",
      "           1       0.82      0.84      0.83      3136\n",
      "\n",
      "    accuracy                           0.84      6770\n",
      "   macro avg       0.84      0.84      0.84      6770\n",
      "weighted avg       0.84      0.84      0.84      6770\n",
      "\n",
      "Test:\n",
      "              precision    recall  f1-score   support\n",
      "\n",
      "           0       0.83      0.82      0.82      1790\n",
      "           1       0.79      0.81      0.80      1545\n",
      "\n",
      "    accuracy                           0.81      3335\n",
      "   macro avg       0.81      0.81      0.81      3335\n",
      "weighted avg       0.81      0.81      0.81      3335\n",
      "\n",
      "Наилучшие значения гиперпараметров: {'max_depth': np.int64(8)}\n"
     ]
    }
   ],
   "source": [
    "# С помощью 'GridSearchCV' подберём максимальную глубину дерева\n",
    "from sklearn.model_selection import GridSearchCV\n",
    "\n",
    "# Задаём сетку подбираемого параметра\n",
    "param_grid = {'max_depth': list(np.linspace(2, 10, 5, dtype=int))} # Максимальная глубина дерева\n",
    "\n",
    "# Создаём объект класса `RandomizedSearchCV`\n",
    "grid_search = GridSearchCV(\n",
    "    estimator=dt, # Передаём нашу модель\n",
    "    param_grid=param_grid, # Сетку искомых параметров\n",
    "    n_jobs=-1 # `n_jobs = -1`, чтобы использовать все доступные ядра для расчётов\n",
    ")\n",
    "\n",
    "# Обучаем объект `RandomizedSearchCV` на тренировочной выборке\n",
    "grid_search.fit(X_train, y_train) \n",
    "# Делаем предсказание на тренировочной и тестовой выборке\n",
    "y_train_pred = grid_search.predict(X_train)\n",
    "y_test_pred = grid_search.predict(X_test)\n",
    "# Выводим значения метрик и гиперпараметров\n",
    "print('Train:')\n",
    "print(metrics.classification_report(y_train, y_train_pred))\n",
    "print('Test:')\n",
    "print(metrics.classification_report(y_test, y_test_pred))\n",
    "print('Наилучшие значения гиперпараметров: {}'.format(grid_search.best_params_))"
   ]
  },
  {
   "cell_type": "markdown",
   "id": "914b3aaa",
   "metadata": {},
   "source": [
    "Разумеется, у каждой модели может быть `множество параметров`. Перебирать их вручную, чтобы получить наилучшее качество, долго и трудозатратно. Поэтому мы можем `использовать оптимизацию`: можно перебрать сразу большое количество комбинаций различных параметров и выбрать тот вариант, при котором модель будет давать наиболее точный прогноз.\n",
    "\n",
    "Реализуем `оптимизацию гиперпараметров` с помощью *`GridSearch`*, перебрав следующие параметры:\n",
    "\n",
    "* `'min_samples_split': [2, 5, 7, 10]`;\n",
    "\n",
    "* `'max_depth': list(np.linspace(2, 10, 5, dtype=int))`."
   ]
  },
  {
   "cell_type": "code",
   "execution_count": 105,
   "id": "63574943",
   "metadata": {},
   "outputs": [
    {
     "name": "stdout",
     "output_type": "stream",
     "text": [
      "Train:\n",
      "              precision    recall  f1-score   support\n",
      "\n",
      "           0       0.86      0.84      0.85      3634\n",
      "           1       0.82      0.84      0.83      3136\n",
      "\n",
      "    accuracy                           0.84      6770\n",
      "   macro avg       0.84      0.84      0.84      6770\n",
      "weighted avg       0.84      0.84      0.84      6770\n",
      "\n",
      "Test:\n",
      "              precision    recall  f1-score   support\n",
      "\n",
      "           0       0.83      0.82      0.82      1790\n",
      "           1       0.79      0.81      0.80      1545\n",
      "\n",
      "    accuracy                           0.81      3335\n",
      "   macro avg       0.81      0.81      0.81      3335\n",
      "weighted avg       0.81      0.81      0.81      3335\n",
      "\n",
      "Наилучшие значения гиперпараметров: {'max_depth': np.int64(8), 'min_samples_split': 10}\n"
     ]
    }
   ],
   "source": [
    "# Дополнительно подберём 'min_samples_split' с помощью 'GridSearchCV'\n",
    "param_grid = {\n",
    "    'min_samples_split': [2, 5, 7, 10],\n",
    "    'max_depth': list(np.linspace(2, 10, 5, dtype=int))\n",
    "}\n",
    "\n",
    "grid_search = GridSearchCV(\n",
    "    estimator=dt,\n",
    "    param_grid=param_grid,\n",
    "    n_jobs=-1\n",
    ")\n",
    "\n",
    "grid_search.fit(X_train, y_train) \n",
    "\n",
    "y_train_pred = grid_search.predict(X_train)\n",
    "y_test_pred = grid_search.predict(X_test)\n",
    "\n",
    "print('Train:')\n",
    "print(metrics.classification_report(y_train, y_train_pred))\n",
    "print('Test:')\n",
    "print(metrics.classification_report(y_test, y_test_pred))\n",
    "print('Наилучшие значения гиперпараметров: {}'.format(grid_search.best_params_))"
   ]
  },
  {
   "cell_type": "markdown",
   "id": "58a320bf",
   "metadata": {},
   "source": [
    "⭐ По сути, мы уже решили задачу `классификации`: отобрали признаки, обучили модель, сделали прогноз и оценили его качество. Однако не будем останавливаться на достигнутом — `попробуем более сложные модели и варианты оптимизации` →"
   ]
  },
  {
   "cell_type": "markdown",
   "id": "ed0fc831",
   "metadata": {},
   "source": [
    "## Решение задачи классификации: ансамбли моделей и построение прогноза"
   ]
  },
  {
   "cell_type": "markdown",
   "id": "2bc882a8",
   "metadata": {},
   "source": [
    "✍ Мы уже `смогли обучить несложные модели`, и теперь пришло время `усложнить их`, а также посмотреть, улучшится ли результат (и если да, то насколько).\n",
    "\n",
    "Мы обучили `решающие деревья`, и теперь пришла пора объединить их в `случайный лес`:"
   ]
  },
  {
   "cell_type": "markdown",
   "id": "d2bd3b8b",
   "metadata": {},
   "source": [
    "Обучим `случайный лес` со следующими параметрами:\n",
    "\n",
    "* `n_estimators = 100`;\n",
    "\n",
    "* `criterion = 'gini'`;\n",
    "\n",
    "* `min_samples_leaf = 5`;\n",
    "\n",
    "* `max_depth = 10`;\n",
    "\n",
    "* `random_state = 42`."
   ]
  },
  {
   "cell_type": "code",
   "execution_count": 106,
   "id": "e708e3fe",
   "metadata": {},
   "outputs": [
    {
     "name": "stdout",
     "output_type": "stream",
     "text": [
      "Train:\n",
      "              precision    recall  f1-score   support\n",
      "\n",
      "           0       0.88      0.86      0.87      3634\n",
      "           1       0.84      0.86      0.85      3136\n",
      "\n",
      "    accuracy                           0.86      6770\n",
      "   macro avg       0.86      0.86      0.86      6770\n",
      "weighted avg       0.86      0.86      0.86      6770\n",
      "\n",
      "Test:\n",
      "              precision    recall  f1-score   support\n",
      "\n",
      "           0       0.85      0.82      0.84      1790\n",
      "           1       0.80      0.83      0.82      1545\n",
      "\n",
      "    accuracy                           0.83      3335\n",
      "   macro avg       0.83      0.83      0.83      3335\n",
      "weighted avg       0.83      0.83      0.83      3335\n",
      "\n"
     ]
    }
   ],
   "source": [
    "# Обучим случайный лес с имеющимися параметрами\n",
    "rf = ensemble.RandomForestClassifier(\n",
    "    n_estimators=100, # Количество деревьев в лесу\n",
    "    criterion='gini', # Критерий информативности\n",
    "    min_samples_leaf=5, # Минимальное количество объектов в листе\n",
    "    max_depth=10, # Максимальная глубина дерева\n",
    "    random_state=42 # Воспроизводимость результатов\n",
    ")\n",
    "\n",
    "rf.fit(X_train, y_train)\n",
    "\n",
    "# Делаем предсказание на тренировочной и тестовой выборке\n",
    "y_train_pred = rf.predict(X_train)\n",
    "y_test_pred = rf.predict(X_test)\n",
    "# Выводим значения метрик\n",
    "print('Train:')\n",
    "print(metrics.classification_report(y_train, y_train_pred))\n",
    "print('Test:')\n",
    "print(metrics.classification_report(y_test, y_test_pred))"
   ]
  },
  {
   "cell_type": "markdown",
   "id": "5e482829",
   "metadata": {},
   "source": [
    "Дата-сайентист не должен останавливаться на одной модели — он должен пробовать все доступные варианты. Поэтому теперь предлагаю вам сравнить полученные результаты с моделью `градиентного бустинга`. Используйем `градиентный бустинг` для решения задачи `классификации`, задав для него следующие параметры:\n",
    "\n",
    "* `learning_rate = 0.05`;\n",
    "\n",
    "* `n_estimators = 300`;\n",
    "\n",
    "* `min_samples_leaf = 5`;\n",
    "\n",
    "* `max_depth = 5`;\n",
    "\n",
    "* `random_state = 42`."
   ]
  },
  {
   "cell_type": "code",
   "execution_count": 107,
   "id": "99f12dfe",
   "metadata": {},
   "outputs": [
    {
     "name": "stdout",
     "output_type": "stream",
     "text": [
      "Train:\n",
      "              precision    recall  f1-score   support\n",
      "\n",
      "           0       0.90      0.89      0.89      3634\n",
      "           1       0.87      0.89      0.88      3136\n",
      "\n",
      "    accuracy                           0.89      6770\n",
      "   macro avg       0.89      0.89      0.89      6770\n",
      "weighted avg       0.89      0.89      0.89      6770\n",
      "\n",
      "Test:\n",
      "              precision    recall  f1-score   support\n",
      "\n",
      "           0       0.85      0.82      0.84      1790\n",
      "           1       0.80      0.83      0.82      1545\n",
      "\n",
      "    accuracy                           0.83      3335\n",
      "   macro avg       0.83      0.83      0.83      3335\n",
      "weighted avg       0.83      0.83      0.83      3335\n",
      "\n"
     ]
    }
   ],
   "source": [
    "# Используем для классификации градиентный бустинг и сравним качество со случайным лесом\n",
    "from sklearn.ensemble import GradientBoostingClassifier\n",
    "\n",
    "gb = GradientBoostingClassifier(\n",
    "    learning_rate=0.05, # Темп обучения\n",
    "    n_estimators=300, # Число деревьев в 'лесу'\n",
    "    min_samples_leaf=5, # Минимальное количество объектов в листе\n",
    "    max_depth=5, # Максимальная глубина дерева\n",
    "    random_state=42 # Воспроизводимость результатов\n",
    ")\n",
    "\n",
    "gb.fit(X_train, y_train)\n",
    "\n",
    "# Делаем предсказание на тренировочной и тестовой выборке\n",
    "y_train_pred = gb.predict(X_train)\n",
    "y_test_pred = gb.predict(X_test)\n",
    "# Выводим значения метрик\n",
    "print('Train:')\n",
    "print(metrics.classification_report(y_train, y_train_pred))\n",
    "print('Test:')\n",
    "print(metrics.classification_report(y_test, y_test_pred))"
   ]
  },
  {
   "cell_type": "markdown",
   "id": "f74c0ad6",
   "metadata": {},
   "source": [
    "Мы уже попробовали построить разные модели, и теперь пришло время построить `ансамбль` из моделей разного типа.\n",
    "\n",
    "В этом раз нам будет необходимо использовать `стекинг`, объединив те алгоритмы, которые мы уже использовали ранее: `решающие деревья, логистическую регрессию и градиентный бустинг`. В качестве `метамодели` используем `модель логистической регрессии`.\n",
    "\n",
    "Параметры оставим те же, что были в наших алгоритмах ранее:"
   ]
  },
  {
   "cell_type": "code",
   "execution_count": 108,
   "id": "0bd42fb0",
   "metadata": {},
   "outputs": [
    {
     "name": "stdout",
     "output_type": "stream",
     "text": [
      "Train:\n",
      "              precision    recall  f1-score   support\n",
      "\n",
      "           0       0.88      0.88      0.88      3634\n",
      "           1       0.86      0.86      0.86      3136\n",
      "\n",
      "    accuracy                           0.87      6770\n",
      "   macro avg       0.87      0.87      0.87      6770\n",
      "weighted avg       0.87      0.87      0.87      6770\n",
      "\n",
      "Test:\n",
      "              precision    recall  f1-score   support\n",
      "\n",
      "           0       0.83      0.83      0.83      1790\n",
      "           1       0.81      0.81      0.81      1545\n",
      "\n",
      "    accuracy                           0.82      3335\n",
      "   macro avg       0.82      0.82      0.82      3335\n",
      "weighted avg       0.82      0.82      0.82      3335\n",
      "\n"
     ]
    }
   ],
   "source": [
    "# Объединим уже известные нам алгоритмы с помощью стекинга\n",
    "from sklearn.ensemble import StackingClassifier\n",
    "\n",
    "# Создаём список кортежей вида: (наименование модели, модель(её параметры))\n",
    "estimators = [\n",
    "    ('df', tree.DecisionTreeClassifier(\n",
    "        criterion='entropy',\n",
    "        max_depth=8,\n",
    "        min_samples_split=10,\n",
    "        random_state=42)),\n",
    "    ('lr', linear_model.LogisticRegression(\n",
    "        solver='sag',\n",
    "        max_iter=1000,\n",
    "        random_state=42)),\n",
    "    ('gb', GradientBoostingClassifier(\n",
    "        learning_rate=0.05,\n",
    "        n_estimators=300,\n",
    "        min_samples_leaf=5,\n",
    "        max_depth=5,\n",
    "        random_state=42))\n",
    "]\n",
    "\n",
    "# Создаём объект класса 'StackingClassifier'\n",
    "stack_reg = StackingClassifier(\n",
    "    estimators=estimators, # Наши рамодели\n",
    "    # Метамодель\n",
    "    final_estimator=linear_model.LogisticRegression(\n",
    "        solver='sag',\n",
    "        max_iter=1000,\n",
    "        random_state=42)\n",
    ")\n",
    "\n",
    "# Обучаем модель\n",
    "stack_reg.fit(X_train, y_train)\n",
    "\n",
    "# Формируем предсказание для тренировочной и тестовой выборки и оцениваем качество модели\n",
    "y_train_pred = stack_reg.predict(X_train)\n",
    "y_test_pred = stack_reg.predict(X_test)\n",
    "print('Train:')\n",
    "print(metrics.classification_report(y_train, y_train_pred))\n",
    "print('Test:')\n",
    "print(metrics.classification_report(y_test, y_test_pred))"
   ]
  },
  {
   "cell_type": "markdown",
   "id": "54e381a1",
   "metadata": {},
   "source": [
    "Разумеется, `не все признаки одинаково хорошо предсказывают результат маркетинговой кампании`. Для того чтобы отобрать наиболее значимые для нас `аспекты`, на которые надо будет обратить внимание при реализации следующей акции, давайте `выберем три признака, дающих наибольший вклад`:"
   ]
  },
  {
   "cell_type": "code",
   "execution_count": 113,
   "id": "35de769c",
   "metadata": {},
   "outputs": [
    {
     "data": {
      "text/plain": [
       "array(['duration', 'contact_unknown', 'poutcome_success'], dtype=object)"
      ]
     },
     "execution_count": 113,
     "metadata": {},
     "output_type": "execute_result"
    }
   ],
   "source": [
    "# Оценим, какие признаки демонстрируют наибольшую важность в модели градиентного бустинга\n",
    "selector = SelectKBest(f_classif, k=3)\n",
    "selector.fit(X, y)\n",
    "selector.get_feature_names_out()"
   ]
  },
  {
   "cell_type": "markdown",
   "id": "e8107867",
   "metadata": {},
   "source": [
    "Ранее мы уже рассматривали `оптимизацию гиперпараметров` при помощи `GridSearch`. Однако мы знаем, что это не единственный способ. Один из более продвинутых вариантов оптимизации гиперпараметров — фреймворк `Optuna`. Применим его для `оптимизации гиперпараметров`. Для перебора возьмём `случайный лес` и следующие параметры:\n",
    "\n",
    "* `n_estimators = trial.suggest_int('n_estimators', 100, 200, 1)`;\n",
    "\n",
    "* `max_depth = trial.suggest_int('max_depth', 10, 30, 1)`;\n",
    "\n",
    "* `min_samples_leaf = trial.suggest_int('min_samples_leaf', 2, 10, 1)`."
   ]
  },
  {
   "cell_type": "code",
   "execution_count": 58,
   "id": "c48e29e9",
   "metadata": {},
   "outputs": [
    {
     "name": "stderr",
     "output_type": "stream",
     "text": [
      "[I 2024-09-25 14:33:30,907] A new study created in memory with name: RandomForestClassifier\n",
      "[I 2024-09-25 14:33:31,308] Trial 0 finished with value: 0.8189873417721519 and parameters: {'n_estimators': 149, 'max_depth': 24, 'min_samples_leaf': 6}. Best is trial 0 with value: 0.8189873417721519.\n",
      "[I 2024-09-25 14:33:31,798] Trial 1 finished with value: 0.8140195768866435 and parameters: {'n_estimators': 179, 'max_depth': 13, 'min_samples_leaf': 4}. Best is trial 0 with value: 0.8189873417721519.\n",
      "[I 2024-09-25 14:33:32,289] Trial 2 finished with value: 0.8148148148148148 and parameters: {'n_estimators': 200, 'max_depth': 18, 'min_samples_leaf': 10}. Best is trial 0 with value: 0.8189873417721519.\n",
      "[I 2024-09-25 14:33:32,761] Trial 3 finished with value: 0.817435249526216 and parameters: {'n_estimators': 175, 'max_depth': 17, 'min_samples_leaf': 6}. Best is trial 0 with value: 0.8189873417721519.\n",
      "[I 2024-09-25 14:33:33,206] Trial 4 finished with value: 0.8163394553514883 and parameters: {'n_estimators': 182, 'max_depth': 28, 'min_samples_leaf': 9}. Best is trial 0 with value: 0.8189873417721519.\n",
      "[I 2024-09-25 14:33:33,563] Trial 5 finished with value: 0.8192392329456146 and parameters: {'n_estimators': 130, 'max_depth': 16, 'min_samples_leaf': 5}. Best is trial 5 with value: 0.8192392329456146.\n",
      "[I 2024-09-25 14:33:33,820] Trial 6 finished with value: 0.8153553299492385 and parameters: {'n_estimators': 101, 'max_depth': 15, 'min_samples_leaf': 9}. Best is trial 5 with value: 0.8192392329456146.\n",
      "[I 2024-09-25 14:33:34,074] Trial 7 finished with value: 0.8154479265590376 and parameters: {'n_estimators': 103, 'max_depth': 11, 'min_samples_leaf': 6}. Best is trial 5 with value: 0.8192392329456146.\n",
      "[I 2024-09-25 14:33:34,505] Trial 8 finished with value: 0.8182677165354331 and parameters: {'n_estimators': 140, 'max_depth': 20, 'min_samples_leaf': 3}. Best is trial 5 with value: 0.8192392329456146.\n",
      "[I 2024-09-25 14:33:35,001] Trial 9 finished with value: 0.8165717900063251 and parameters: {'n_estimators': 180, 'max_depth': 22, 'min_samples_leaf': 5}. Best is trial 5 with value: 0.8192392329456146.\n",
      "[I 2024-09-25 14:33:35,340] Trial 10 finished with value: 0.817231548938866 and parameters: {'n_estimators': 127, 'max_depth': 10, 'min_samples_leaf': 2}. Best is trial 5 with value: 0.8192392329456146.\n",
      "[I 2024-09-25 14:33:35,734] Trial 11 finished with value: 0.8172043010752689 and parameters: {'n_estimators': 150, 'max_depth': 25, 'min_samples_leaf': 7}. Best is trial 5 with value: 0.8192392329456146.\n",
      "[I 2024-09-25 14:33:36,070] Trial 12 finished with value: 0.8157061431285624 and parameters: {'n_estimators': 125, 'max_depth': 24, 'min_samples_leaf': 7}. Best is trial 5 with value: 0.8192392329456146.\n",
      "[I 2024-09-25 14:33:36,551] Trial 13 finished with value: 0.8153749212350346 and parameters: {'n_estimators': 159, 'max_depth': 28, 'min_samples_leaf': 4}. Best is trial 5 with value: 0.8192392329456146.\n",
      "[I 2024-09-25 14:33:36,884] Trial 14 finished with value: 0.8153310104529616 and parameters: {'n_estimators': 124, 'max_depth': 21, 'min_samples_leaf': 7}. Best is trial 5 with value: 0.8192392329456146.\n",
      "[I 2024-09-25 14:33:37,281] Trial 15 finished with value: 0.8200441222817523 and parameters: {'n_estimators': 141, 'max_depth': 17, 'min_samples_leaf': 5}. Best is trial 15 with value: 0.8200441222817523.\n",
      "[I 2024-09-25 14:33:37,677] Trial 16 finished with value: 0.8191556395715186 and parameters: {'n_estimators': 136, 'max_depth': 15, 'min_samples_leaf': 4}. Best is trial 15 with value: 0.8200441222817523.\n",
      "[I 2024-09-25 14:33:38,059] Trial 17 finished with value: 0.8157232704402516 and parameters: {'n_estimators': 115, 'max_depth': 18, 'min_samples_leaf': 2}. Best is trial 15 with value: 0.8200441222817523.\n",
      "[I 2024-09-25 14:33:38,507] Trial 18 finished with value: 0.8150967332699017 and parameters: {'n_estimators': 165, 'max_depth': 14, 'min_samples_leaf': 5}. Best is trial 15 with value: 0.8200441222817523.\n",
      "[I 2024-09-25 14:33:38,808] Trial 19 finished with value: 0.818613485280152 and parameters: {'n_estimators': 114, 'max_depth': 12, 'min_samples_leaf': 5}. Best is trial 15 with value: 0.8200441222817523.\n"
     ]
    }
   ],
   "source": [
    "import optuna\n",
    "\n",
    "# Реализуем оптимизацию гиперпараметров с помощью 'Optuna'\n",
    "def optuna_rf(trial):\n",
    "    # Задаём пространства поиска гиперпараметров\n",
    "    n_estimators = trial.suggest_int('n_estimators', 100, 200, 1)\n",
    "    max_depth = trial.suggest_int('max_depth', 10, 30, 1)\n",
    "    min_samples_leaf = trial.suggest_int('min_samples_leaf', 2, 10, 1)\n",
    "    \n",
    "    # Создаём модель\n",
    "    rf = ensemble.RandomForestClassifier(n_estimators=n_estimators,\n",
    "                                         max_depth=max_depth,\n",
    "                                         min_samples_leaf=min_samples_leaf)\n",
    "    \n",
    "    rf.fit(X_train, y_train)\n",
    "    score = metrics.f1_score(y_test, rf.predict(X_test))\n",
    "    return score\n",
    "\n",
    "# Создаем объект исследования\n",
    "# Можем напрямую указать, что нам необходимо максимизировать метрику direction='maximize'\n",
    "study = optuna.create_study(study_name=\"RandomForestClassifier\", direction=\"maximize\")\n",
    "\n",
    "# Ищем лучшую комбинацию гиперпараметров 'n_trials' раз\n",
    "study.optimize(optuna_rf, n_trials=20)"
   ]
  },
  {
   "cell_type": "code",
   "execution_count": 59,
   "id": "36de807d",
   "metadata": {},
   "outputs": [
    {
     "name": "stdout",
     "output_type": "stream",
     "text": [
      "Наилучшие значения гиперпараметров {'n_estimators': 141, 'max_depth': 17, 'min_samples_leaf': 5}\n",
      "F1_score на тестовом наборе: 0.82\n"
     ]
    }
   ],
   "source": [
    "# Выводим результаты на обучающей выборке\n",
    "print('Наилучшие значения гиперпараметров {}'.format(study.best_params))\n",
    "print('F1_score на тестовом наборе: {:.2f}'.format(study.best_value))"
   ]
  },
  {
   "cell_type": "code",
   "execution_count": 60,
   "id": "2e05fb46",
   "metadata": {},
   "outputs": [
    {
     "name": "stdout",
     "output_type": "stream",
     "text": [
      "              precision    recall  f1-score   support\n",
      "\n",
      "           0       0.86      0.81      0.84      1790\n",
      "           1       0.80      0.84      0.82      1545\n",
      "\n",
      "    accuracy                           0.83      3335\n",
      "   macro avg       0.83      0.83      0.83      3335\n",
      "weighted avg       0.83      0.83      0.83      3335\n",
      "\n"
     ]
    }
   ],
   "source": [
    "# Создаём и обучаем модель с полученными параметрами\n",
    "rf = ensemble.RandomForestClassifier(**study.best_params, random_state=42)\n",
    "\n",
    "rf.fit(X_train, y_train)\n",
    "y_test_pred = rf.predict(X_test)\n",
    "print(metrics.classification_report(y_test, y_test_pred))"
   ]
  },
  {
   "cell_type": "markdown",
   "id": "a8073028",
   "metadata": {},
   "source": [
    "## Итоговый вывод по проекту"
   ]
  },
  {
   "cell_type": "markdown",
   "id": "7fc84df9",
   "metadata": {},
   "source": [
    "Оценив все наши модели в деле, мы можем прийти к выводу, что наилучшей из всех представленных нами моделей является `метод случайного леса` (он же `RandomForestClassifier`), со следующими параметрами, подобранными с помощью фреймворка — `Optuna`:\n",
    "\n",
    "* `n_estimator` (количество деревьев в лесу) — 141;\n",
    "\n",
    "* `criterion` (критерий информативности разбиения для каждого из деревьев) — `'gini'` (по умолчанию);\n",
    "\n",
    "* `max_depth` (максимальная глубина дерева) — 17;\n",
    "\n",
    "* ``min_samples_split'` (минимальное число объектов, при котором выполняется расщепление) — 2 (по умолчанию);\n",
    "\n",
    "* `min_samples_leaf` (минимальное число объектов в листе) — 5;\n",
    "\n",
    "* `max_features` (максимальное число признаков, которые будут использоваться каждым из деревьев) — `'sqrt'` (по умолчанию);\n",
    "\n",
    "* `random_state` (воспроизводимость результатов) — 42;\n",
    "\n",
    "  Остальные малозначимые параметры мы оставили в режиме по умолчанию.\n",
    "\n",
    "Полученная с данными параметрами модель отлично охватывает как можно больше объектов положительного класса (`'deposit' — 1`) и чуть менее хорошо отделяет класс 1 от класса 0 (всё тот же признак `'deposit'`) и имеет точность в определении класса в 83%.\n",
    "\n",
    "В качестве `рекомендаций банку` в проведении дальнейших маркетинговых кампаний мы можем посоветовать `обратить внимание` на следующую информацию о клиентах:\n",
    "\n",
    "* Баланс клиента;\n",
    "\n",
    "* Наличие кредита на жильё;\n",
    "\n",
    "* Количество контактов с клиентом в течении маркетинговой кампании;\n",
    "\n",
    "* Количество пропущенных дней с момента последней маркетинговой кампании до контакта в текущей кампании;\n",
    "\n",
    "* Количество контактов до текущей кампании;\n",
    "\n",
    "* Возрастная группа клиента;\n",
    "\n",
    "* Какое количество времени уделяется сотрудником при контаке с клиентои;\n",
    "\n",
    "* Удалось ли связаться с клиентом;\n",
    "\n",
    "* Вид контакта с клиентом;\n",
    "\n",
    "* Месяц проведения маркетинговой кампании;\n",
    "\n",
    "* Успешность прошлой маркетинговой кампании."
   ]
  }
 ],
 "metadata": {
  "kernelspec": {
   "display_name": "Python 3 (ipykernel)",
   "language": "python",
   "name": "python3"
  },
  "language_info": {
   "codemirror_mode": {
    "name": "ipython",
    "version": 3
   },
   "file_extension": ".py",
   "mimetype": "text/x-python",
   "name": "python",
   "nbconvert_exporter": "python",
   "pygments_lexer": "ipython3",
   "version": "3.12.4"
  }
 },
 "nbformat": 4,
 "nbformat_minor": 5
}
